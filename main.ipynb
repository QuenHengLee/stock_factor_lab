{
 "cells": [
  {
   "cell_type": "markdown",
   "metadata": {},
   "source": [
    "import 程式庫\n"
   ]
  },
  {
   "cell_type": "code",
   "execution_count": 5,
   "metadata": {},
   "outputs": [],
   "source": [
    "from database import Database\n",
    "from get_data import Data\n",
    "from seperate_company import SeperateCompany\n",
    "from plot import Plot\n",
    "from backtest import Backtest\n",
    "from datetime import datetime\n",
    "\n",
    "import pandas as pd\n",
    "import numpy as np\n",
    "import matplotlib.pyplot as plt\n",
    "import seaborn as sns\n",
    "import matplotlib.pyplot as plt\n",
    "import plotly.express as px"
   ]
  },
  {
   "cell_type": "code",
   "execution_count": 6,
   "metadata": {},
   "outputs": [],
   "source": [
    "# 建立取得資料物件\n",
    "data = Data()\n",
    "# 建立資料分割物件\n",
    "seperate_company = SeperateCompany()\n",
    "# 建立畫圖物件\n",
    "plotter = Plot()"
   ]
  },
  {
   "cell_type": "code",
   "execution_count": 7,
   "metadata": {},
   "outputs": [],
   "source": [
    "# 測試輸出財報資料    \n",
    "# factor_dict = data.get('report:EPS,ROE,PB,PS,PE')\n",
    "factor_dict = data.get('report:EPS,ROE')"
   ]
  },
  {
   "cell_type": "code",
   "execution_count": 8,
   "metadata": {},
   "outputs": [],
   "source": [
    "# 根據隨入的因子，將公司分成quantile組\n",
    "# 回測所有quantile\n",
    "all_result_dict = seperate_company.backtest_all_quantile(factor_dict,quantile=4, start_date=\"2013-01-01\", end_date=\"2019-01-01\",frequency=\"Q\")"
   ]
  },
  {
   "cell_type": "code",
   "execution_count": 9,
   "metadata": {},
   "outputs": [
    {
     "name": "stdout",
     "output_type": "stream",
     "text": [
      "因子:  EPS\n"
     ]
    },
    {
     "data": {
      "application/vnd.plotly.v1+json": {
       "config": {
        "plotlyServerURL": "https://plot.ly"
       },
       "data": [
        {
         "hovertemplate": "variable=Quantile 1<br>date=%{x}<br>value=%{y}<extra></extra>",
         "legendgroup": "Quantile 1",
         "line": {
          "color": "#636efa",
          "dash": "solid"
         },
         "marker": {
          "symbol": "circle"
         },
         "mode": "lines",
         "name": "Quantile 1",
         "orientation": "v",
         "showlegend": true,
         "type": "scatter",
         "x": [
          "2013-03-29T00:00:00",
          "2013-06-28T00:00:00",
          "2013-09-30T00:00:00",
          "2013-12-31T00:00:00",
          "2014-03-31T00:00:00",
          "2014-06-30T00:00:00",
          "2014-09-30T00:00:00",
          "2014-12-31T00:00:00",
          "2015-03-31T00:00:00",
          "2015-06-30T00:00:00",
          "2015-09-30T00:00:00",
          "2015-12-31T00:00:00",
          "2016-03-31T00:00:00",
          "2016-06-30T00:00:00",
          "2016-09-30T00:00:00",
          "2016-12-30T00:00:00",
          "2017-03-31T00:00:00",
          "2017-06-30T00:00:00",
          "2017-09-30T00:00:00",
          "2017-12-29T00:00:00",
          "2018-03-31T00:00:00",
          "2018-06-29T00:00:00",
          "2018-09-28T00:00:00",
          "2018-12-28T00:00:00"
         ],
         "xaxis": "x",
         "y": [
          0,
          0.03951815925270097,
          0.2782944648886403,
          0.11522248675660762,
          0.25131929481537796,
          0.13554238482339542,
          0.014920604451672759,
          -0.051197343572471965,
          0.14025907448396424,
          -0.17098233316694156,
          0.043166076396943254,
          0.07059385241543303,
          0.044473378715874645,
          0.015214242524233867,
          0.006066112689023129,
          0.03714042849985866,
          -0.0022039787379206643,
          0.09724950029549895,
          0.09016737121040741,
          0.04532222084941928,
          0.1050306450370293,
          0.06290792111787624,
          -0.04969658636697538,
          -0.11276816086052222
         ],
         "yaxis": "y"
        },
        {
         "hovertemplate": "variable=Quantile 2<br>date=%{x}<br>value=%{y}<extra></extra>",
         "legendgroup": "Quantile 2",
         "line": {
          "color": "#EF553B",
          "dash": "solid"
         },
         "marker": {
          "symbol": "circle"
         },
         "mode": "lines",
         "name": "Quantile 2",
         "orientation": "v",
         "showlegend": true,
         "type": "scatter",
         "x": [
          "2013-03-29T00:00:00",
          "2013-06-28T00:00:00",
          "2013-09-30T00:00:00",
          "2013-12-31T00:00:00",
          "2014-03-31T00:00:00",
          "2014-06-30T00:00:00",
          "2014-09-30T00:00:00",
          "2014-12-31T00:00:00",
          "2015-03-31T00:00:00",
          "2015-06-30T00:00:00",
          "2015-09-30T00:00:00",
          "2015-12-31T00:00:00",
          "2016-03-31T00:00:00",
          "2016-06-30T00:00:00",
          "2016-09-30T00:00:00",
          "2016-12-30T00:00:00",
          "2017-03-31T00:00:00",
          "2017-06-30T00:00:00",
          "2017-09-30T00:00:00",
          "2017-12-29T00:00:00",
          "2018-03-31T00:00:00",
          "2018-06-29T00:00:00",
          "2018-09-28T00:00:00",
          "2018-12-28T00:00:00"
         ],
         "xaxis": "x",
         "y": [
          0,
          0.08058623617355742,
          0.16219165341483688,
          0.07629207749396194,
          0.09203943527435854,
          -0.07408099159969694,
          -0.0354816212929876,
          -0.01710730164980845,
          0.062269267247424764,
          -0.057628824981872384,
          -0.06117313175586503,
          0.06270204559215742,
          -0.011253376680517846,
          -0.024736460341838296,
          0.02919703050656075,
          0.04240671291114673,
          -0.0033479667812432723,
          0.016690852584710925,
          0.06830747939132031,
          -0.05243233705204098,
          0.09242472833120985,
          -0.04649046169210713,
          0.04775077931997629,
          0.003016297246878352
         ],
         "yaxis": "y"
        },
        {
         "hovertemplate": "variable=Quantile 3<br>date=%{x}<br>value=%{y}<extra></extra>",
         "legendgroup": "Quantile 3",
         "line": {
          "color": "#00cc96",
          "dash": "solid"
         },
         "marker": {
          "symbol": "circle"
         },
         "mode": "lines",
         "name": "Quantile 3",
         "orientation": "v",
         "showlegend": true,
         "type": "scatter",
         "x": [
          "2013-03-29T00:00:00",
          "2013-06-28T00:00:00",
          "2013-09-30T00:00:00",
          "2013-12-31T00:00:00",
          "2014-03-31T00:00:00",
          "2014-06-30T00:00:00",
          "2014-09-30T00:00:00",
          "2014-12-31T00:00:00",
          "2015-03-31T00:00:00",
          "2015-06-30T00:00:00",
          "2015-09-30T00:00:00",
          "2015-12-31T00:00:00",
          "2016-03-31T00:00:00",
          "2016-06-30T00:00:00",
          "2016-09-30T00:00:00",
          "2016-12-30T00:00:00",
          "2017-03-31T00:00:00",
          "2017-06-30T00:00:00",
          "2017-09-30T00:00:00",
          "2017-12-29T00:00:00",
          "2018-03-31T00:00:00",
          "2018-06-29T00:00:00",
          "2018-09-28T00:00:00",
          "2018-12-28T00:00:00"
         ],
         "xaxis": "x",
         "y": [
          0,
          0.148932788443064,
          0.007995811369706729,
          -0.012326894477592276,
          0.14412833977779727,
          -0.06862249043446766,
          -0.07110199755313928,
          -0.005556756627511206,
          0.049265084731182185,
          -0.04435288473250765,
          -0.13186621955050803,
          -0.06812534593952968,
          -0.005068503347114728,
          -0.08078861035129314,
          -0.011117335936813078,
          -0.010956102337432938,
          0.05712393588645703,
          -0.04014508529465921,
          0.009703483878547914,
          0.11155029606232247,
          0.09866417653174508,
          0.02896869842824934,
          -0.05840543177902724,
          -0.01170903820937319
         ],
         "yaxis": "y"
        },
        {
         "hovertemplate": "variable=Quantile 4<br>date=%{x}<br>value=%{y}<extra></extra>",
         "legendgroup": "Quantile 4",
         "line": {
          "color": "#ab63fa",
          "dash": "solid"
         },
         "marker": {
          "symbol": "circle"
         },
         "mode": "lines",
         "name": "Quantile 4",
         "orientation": "v",
         "showlegend": true,
         "type": "scatter",
         "x": [
          "2013-03-29T00:00:00",
          "2013-06-28T00:00:00",
          "2013-09-30T00:00:00",
          "2013-12-31T00:00:00",
          "2014-03-31T00:00:00",
          "2014-06-30T00:00:00",
          "2014-09-30T00:00:00",
          "2014-12-31T00:00:00",
          "2015-03-31T00:00:00",
          "2015-06-30T00:00:00",
          "2015-09-30T00:00:00",
          "2015-12-31T00:00:00",
          "2016-03-31T00:00:00",
          "2016-06-30T00:00:00",
          "2016-09-30T00:00:00",
          "2016-12-30T00:00:00",
          "2017-03-31T00:00:00",
          "2017-06-30T00:00:00",
          "2017-09-30T00:00:00",
          "2017-12-29T00:00:00",
          "2018-03-31T00:00:00",
          "2018-06-29T00:00:00",
          "2018-09-28T00:00:00",
          "2018-12-28T00:00:00"
         ],
         "xaxis": "x",
         "y": [
          0,
          -0.0048760852409692745,
          0.009809633591851608,
          -0.06446956480900567,
          0.08915732148871314,
          0.1477447010479196,
          -0.09384588171468344,
          -0.01664228082604069,
          0.014878113771995771,
          -0.04985037890032551,
          -0.10286029926562179,
          0.00902750804915975,
          -0.03521472176789153,
          -0.04043149139143409,
          0.004903901501347008,
          -0.14173841357341743,
          0.031173005224671257,
          -0.03730287541746513,
          0.27186376298331894,
          -0.0440566673409144,
          -0.03705226184502486,
          0.02436532820102144,
          0.009399838166556762,
          -0.00042385134388034373
         ],
         "yaxis": "y"
        }
       ],
       "layout": {
        "legend": {
         "title": {
          "text": "variable"
         },
         "tracegroupgap": 0
        },
        "template": {
         "data": {
          "bar": [
           {
            "error_x": {
             "color": "#2a3f5f"
            },
            "error_y": {
             "color": "#2a3f5f"
            },
            "marker": {
             "line": {
              "color": "#E5ECF6",
              "width": 0.5
             },
             "pattern": {
              "fillmode": "overlay",
              "size": 10,
              "solidity": 0.2
             }
            },
            "type": "bar"
           }
          ],
          "barpolar": [
           {
            "marker": {
             "line": {
              "color": "#E5ECF6",
              "width": 0.5
             },
             "pattern": {
              "fillmode": "overlay",
              "size": 10,
              "solidity": 0.2
             }
            },
            "type": "barpolar"
           }
          ],
          "carpet": [
           {
            "aaxis": {
             "endlinecolor": "#2a3f5f",
             "gridcolor": "white",
             "linecolor": "white",
             "minorgridcolor": "white",
             "startlinecolor": "#2a3f5f"
            },
            "baxis": {
             "endlinecolor": "#2a3f5f",
             "gridcolor": "white",
             "linecolor": "white",
             "minorgridcolor": "white",
             "startlinecolor": "#2a3f5f"
            },
            "type": "carpet"
           }
          ],
          "choropleth": [
           {
            "colorbar": {
             "outlinewidth": 0,
             "ticks": ""
            },
            "type": "choropleth"
           }
          ],
          "contour": [
           {
            "colorbar": {
             "outlinewidth": 0,
             "ticks": ""
            },
            "colorscale": [
             [
              0,
              "#0d0887"
             ],
             [
              0.1111111111111111,
              "#46039f"
             ],
             [
              0.2222222222222222,
              "#7201a8"
             ],
             [
              0.3333333333333333,
              "#9c179e"
             ],
             [
              0.4444444444444444,
              "#bd3786"
             ],
             [
              0.5555555555555556,
              "#d8576b"
             ],
             [
              0.6666666666666666,
              "#ed7953"
             ],
             [
              0.7777777777777778,
              "#fb9f3a"
             ],
             [
              0.8888888888888888,
              "#fdca26"
             ],
             [
              1,
              "#f0f921"
             ]
            ],
            "type": "contour"
           }
          ],
          "contourcarpet": [
           {
            "colorbar": {
             "outlinewidth": 0,
             "ticks": ""
            },
            "type": "contourcarpet"
           }
          ],
          "heatmap": [
           {
            "colorbar": {
             "outlinewidth": 0,
             "ticks": ""
            },
            "colorscale": [
             [
              0,
              "#0d0887"
             ],
             [
              0.1111111111111111,
              "#46039f"
             ],
             [
              0.2222222222222222,
              "#7201a8"
             ],
             [
              0.3333333333333333,
              "#9c179e"
             ],
             [
              0.4444444444444444,
              "#bd3786"
             ],
             [
              0.5555555555555556,
              "#d8576b"
             ],
             [
              0.6666666666666666,
              "#ed7953"
             ],
             [
              0.7777777777777778,
              "#fb9f3a"
             ],
             [
              0.8888888888888888,
              "#fdca26"
             ],
             [
              1,
              "#f0f921"
             ]
            ],
            "type": "heatmap"
           }
          ],
          "heatmapgl": [
           {
            "colorbar": {
             "outlinewidth": 0,
             "ticks": ""
            },
            "colorscale": [
             [
              0,
              "#0d0887"
             ],
             [
              0.1111111111111111,
              "#46039f"
             ],
             [
              0.2222222222222222,
              "#7201a8"
             ],
             [
              0.3333333333333333,
              "#9c179e"
             ],
             [
              0.4444444444444444,
              "#bd3786"
             ],
             [
              0.5555555555555556,
              "#d8576b"
             ],
             [
              0.6666666666666666,
              "#ed7953"
             ],
             [
              0.7777777777777778,
              "#fb9f3a"
             ],
             [
              0.8888888888888888,
              "#fdca26"
             ],
             [
              1,
              "#f0f921"
             ]
            ],
            "type": "heatmapgl"
           }
          ],
          "histogram": [
           {
            "marker": {
             "pattern": {
              "fillmode": "overlay",
              "size": 10,
              "solidity": 0.2
             }
            },
            "type": "histogram"
           }
          ],
          "histogram2d": [
           {
            "colorbar": {
             "outlinewidth": 0,
             "ticks": ""
            },
            "colorscale": [
             [
              0,
              "#0d0887"
             ],
             [
              0.1111111111111111,
              "#46039f"
             ],
             [
              0.2222222222222222,
              "#7201a8"
             ],
             [
              0.3333333333333333,
              "#9c179e"
             ],
             [
              0.4444444444444444,
              "#bd3786"
             ],
             [
              0.5555555555555556,
              "#d8576b"
             ],
             [
              0.6666666666666666,
              "#ed7953"
             ],
             [
              0.7777777777777778,
              "#fb9f3a"
             ],
             [
              0.8888888888888888,
              "#fdca26"
             ],
             [
              1,
              "#f0f921"
             ]
            ],
            "type": "histogram2d"
           }
          ],
          "histogram2dcontour": [
           {
            "colorbar": {
             "outlinewidth": 0,
             "ticks": ""
            },
            "colorscale": [
             [
              0,
              "#0d0887"
             ],
             [
              0.1111111111111111,
              "#46039f"
             ],
             [
              0.2222222222222222,
              "#7201a8"
             ],
             [
              0.3333333333333333,
              "#9c179e"
             ],
             [
              0.4444444444444444,
              "#bd3786"
             ],
             [
              0.5555555555555556,
              "#d8576b"
             ],
             [
              0.6666666666666666,
              "#ed7953"
             ],
             [
              0.7777777777777778,
              "#fb9f3a"
             ],
             [
              0.8888888888888888,
              "#fdca26"
             ],
             [
              1,
              "#f0f921"
             ]
            ],
            "type": "histogram2dcontour"
           }
          ],
          "mesh3d": [
           {
            "colorbar": {
             "outlinewidth": 0,
             "ticks": ""
            },
            "type": "mesh3d"
           }
          ],
          "parcoords": [
           {
            "line": {
             "colorbar": {
              "outlinewidth": 0,
              "ticks": ""
             }
            },
            "type": "parcoords"
           }
          ],
          "pie": [
           {
            "automargin": true,
            "type": "pie"
           }
          ],
          "scatter": [
           {
            "fillpattern": {
             "fillmode": "overlay",
             "size": 10,
             "solidity": 0.2
            },
            "type": "scatter"
           }
          ],
          "scatter3d": [
           {
            "line": {
             "colorbar": {
              "outlinewidth": 0,
              "ticks": ""
             }
            },
            "marker": {
             "colorbar": {
              "outlinewidth": 0,
              "ticks": ""
             }
            },
            "type": "scatter3d"
           }
          ],
          "scattercarpet": [
           {
            "marker": {
             "colorbar": {
              "outlinewidth": 0,
              "ticks": ""
             }
            },
            "type": "scattercarpet"
           }
          ],
          "scattergeo": [
           {
            "marker": {
             "colorbar": {
              "outlinewidth": 0,
              "ticks": ""
             }
            },
            "type": "scattergeo"
           }
          ],
          "scattergl": [
           {
            "marker": {
             "colorbar": {
              "outlinewidth": 0,
              "ticks": ""
             }
            },
            "type": "scattergl"
           }
          ],
          "scattermapbox": [
           {
            "marker": {
             "colorbar": {
              "outlinewidth": 0,
              "ticks": ""
             }
            },
            "type": "scattermapbox"
           }
          ],
          "scatterpolar": [
           {
            "marker": {
             "colorbar": {
              "outlinewidth": 0,
              "ticks": ""
             }
            },
            "type": "scatterpolar"
           }
          ],
          "scatterpolargl": [
           {
            "marker": {
             "colorbar": {
              "outlinewidth": 0,
              "ticks": ""
             }
            },
            "type": "scatterpolargl"
           }
          ],
          "scatterternary": [
           {
            "marker": {
             "colorbar": {
              "outlinewidth": 0,
              "ticks": ""
             }
            },
            "type": "scatterternary"
           }
          ],
          "surface": [
           {
            "colorbar": {
             "outlinewidth": 0,
             "ticks": ""
            },
            "colorscale": [
             [
              0,
              "#0d0887"
             ],
             [
              0.1111111111111111,
              "#46039f"
             ],
             [
              0.2222222222222222,
              "#7201a8"
             ],
             [
              0.3333333333333333,
              "#9c179e"
             ],
             [
              0.4444444444444444,
              "#bd3786"
             ],
             [
              0.5555555555555556,
              "#d8576b"
             ],
             [
              0.6666666666666666,
              "#ed7953"
             ],
             [
              0.7777777777777778,
              "#fb9f3a"
             ],
             [
              0.8888888888888888,
              "#fdca26"
             ],
             [
              1,
              "#f0f921"
             ]
            ],
            "type": "surface"
           }
          ],
          "table": [
           {
            "cells": {
             "fill": {
              "color": "#EBF0F8"
             },
             "line": {
              "color": "white"
             }
            },
            "header": {
             "fill": {
              "color": "#C8D4E3"
             },
             "line": {
              "color": "white"
             }
            },
            "type": "table"
           }
          ]
         },
         "layout": {
          "annotationdefaults": {
           "arrowcolor": "#2a3f5f",
           "arrowhead": 0,
           "arrowwidth": 1
          },
          "autotypenumbers": "strict",
          "coloraxis": {
           "colorbar": {
            "outlinewidth": 0,
            "ticks": ""
           }
          },
          "colorscale": {
           "diverging": [
            [
             0,
             "#8e0152"
            ],
            [
             0.1,
             "#c51b7d"
            ],
            [
             0.2,
             "#de77ae"
            ],
            [
             0.3,
             "#f1b6da"
            ],
            [
             0.4,
             "#fde0ef"
            ],
            [
             0.5,
             "#f7f7f7"
            ],
            [
             0.6,
             "#e6f5d0"
            ],
            [
             0.7,
             "#b8e186"
            ],
            [
             0.8,
             "#7fbc41"
            ],
            [
             0.9,
             "#4d9221"
            ],
            [
             1,
             "#276419"
            ]
           ],
           "sequential": [
            [
             0,
             "#0d0887"
            ],
            [
             0.1111111111111111,
             "#46039f"
            ],
            [
             0.2222222222222222,
             "#7201a8"
            ],
            [
             0.3333333333333333,
             "#9c179e"
            ],
            [
             0.4444444444444444,
             "#bd3786"
            ],
            [
             0.5555555555555556,
             "#d8576b"
            ],
            [
             0.6666666666666666,
             "#ed7953"
            ],
            [
             0.7777777777777778,
             "#fb9f3a"
            ],
            [
             0.8888888888888888,
             "#fdca26"
            ],
            [
             1,
             "#f0f921"
            ]
           ],
           "sequentialminus": [
            [
             0,
             "#0d0887"
            ],
            [
             0.1111111111111111,
             "#46039f"
            ],
            [
             0.2222222222222222,
             "#7201a8"
            ],
            [
             0.3333333333333333,
             "#9c179e"
            ],
            [
             0.4444444444444444,
             "#bd3786"
            ],
            [
             0.5555555555555556,
             "#d8576b"
            ],
            [
             0.6666666666666666,
             "#ed7953"
            ],
            [
             0.7777777777777778,
             "#fb9f3a"
            ],
            [
             0.8888888888888888,
             "#fdca26"
            ],
            [
             1,
             "#f0f921"
            ]
           ]
          },
          "colorway": [
           "#636efa",
           "#EF553B",
           "#00cc96",
           "#ab63fa",
           "#FFA15A",
           "#19d3f3",
           "#FF6692",
           "#B6E880",
           "#FF97FF",
           "#FECB52"
          ],
          "font": {
           "color": "#2a3f5f"
          },
          "geo": {
           "bgcolor": "white",
           "lakecolor": "white",
           "landcolor": "#E5ECF6",
           "showlakes": true,
           "showland": true,
           "subunitcolor": "white"
          },
          "hoverlabel": {
           "align": "left"
          },
          "hovermode": "closest",
          "mapbox": {
           "style": "light"
          },
          "paper_bgcolor": "white",
          "plot_bgcolor": "#E5ECF6",
          "polar": {
           "angularaxis": {
            "gridcolor": "white",
            "linecolor": "white",
            "ticks": ""
           },
           "bgcolor": "#E5ECF6",
           "radialaxis": {
            "gridcolor": "white",
            "linecolor": "white",
            "ticks": ""
           }
          },
          "scene": {
           "xaxis": {
            "backgroundcolor": "#E5ECF6",
            "gridcolor": "white",
            "gridwidth": 2,
            "linecolor": "white",
            "showbackground": true,
            "ticks": "",
            "zerolinecolor": "white"
           },
           "yaxis": {
            "backgroundcolor": "#E5ECF6",
            "gridcolor": "white",
            "gridwidth": 2,
            "linecolor": "white",
            "showbackground": true,
            "ticks": "",
            "zerolinecolor": "white"
           },
           "zaxis": {
            "backgroundcolor": "#E5ECF6",
            "gridcolor": "white",
            "gridwidth": 2,
            "linecolor": "white",
            "showbackground": true,
            "ticks": "",
            "zerolinecolor": "white"
           }
          },
          "shapedefaults": {
           "line": {
            "color": "#2a3f5f"
           }
          },
          "ternary": {
           "aaxis": {
            "gridcolor": "white",
            "linecolor": "white",
            "ticks": ""
           },
           "baxis": {
            "gridcolor": "white",
            "linecolor": "white",
            "ticks": ""
           },
           "bgcolor": "#E5ECF6",
           "caxis": {
            "gridcolor": "white",
            "linecolor": "white",
            "ticks": ""
           }
          },
          "title": {
           "x": 0.05
          },
          "xaxis": {
           "automargin": true,
           "gridcolor": "white",
           "linecolor": "white",
           "ticks": "",
           "title": {
            "standoff": 15
           },
           "zerolinecolor": "white",
           "zerolinewidth": 2
          },
          "yaxis": {
           "automargin": true,
           "gridcolor": "white",
           "linecolor": "white",
           "ticks": "",
           "title": {
            "standoff": 15
           },
           "zerolinecolor": "white",
           "zerolinewidth": 2
          }
         }
        },
        "title": {
         "text": "portfolio_returns折線圖"
        },
        "xaxis": {
         "anchor": "y",
         "domain": [
          0,
          1
         ],
         "title": {
          "text": "date"
         }
        },
        "yaxis": {
         "anchor": "x",
         "domain": [
          0,
          1
         ],
         "title": {
          "text": "value"
         }
        }
       }
      }
     },
     "metadata": {},
     "output_type": "display_data"
    },
    {
     "name": "stdout",
     "output_type": "stream",
     "text": [
      "因子:  ROE\n"
     ]
    },
    {
     "data": {
      "application/vnd.plotly.v1+json": {
       "config": {
        "plotlyServerURL": "https://plot.ly"
       },
       "data": [
        {
         "hovertemplate": "variable=Quantile 1<br>date=%{x}<br>value=%{y}<extra></extra>",
         "legendgroup": "Quantile 1",
         "line": {
          "color": "#636efa",
          "dash": "solid"
         },
         "marker": {
          "symbol": "circle"
         },
         "mode": "lines",
         "name": "Quantile 1",
         "orientation": "v",
         "showlegend": true,
         "type": "scatter",
         "x": [
          "2013-03-29T00:00:00",
          "2013-06-28T00:00:00",
          "2013-09-30T00:00:00",
          "2013-12-31T00:00:00",
          "2014-03-31T00:00:00",
          "2014-06-30T00:00:00",
          "2014-09-30T00:00:00",
          "2014-12-31T00:00:00",
          "2015-03-31T00:00:00",
          "2015-06-30T00:00:00",
          "2015-09-30T00:00:00",
          "2015-12-31T00:00:00",
          "2016-03-31T00:00:00",
          "2016-06-30T00:00:00",
          "2016-09-30T00:00:00",
          "2016-12-30T00:00:00",
          "2017-03-31T00:00:00",
          "2017-06-30T00:00:00",
          "2017-09-30T00:00:00",
          "2017-12-29T00:00:00",
          "2018-03-31T00:00:00",
          "2018-06-29T00:00:00",
          "2018-09-28T00:00:00",
          "2018-12-28T00:00:00"
         ],
         "xaxis": "x",
         "y": [
          0,
          0.15264596052850976,
          0.27747610481821994,
          0.12252936825362859,
          0.16605242579767676,
          0.10976150721630518,
          -0.057128565677556864,
          -0.01649072444494948,
          0.12304223616751386,
          -0.13240310682605916,
          0.060527099521968,
          0.1037430659748555,
          0.03868617135805863,
          -0.000029276921779342047,
          -0.0010999167237368823,
          -0.01484224385929167,
          -0.010975102672805548,
          0.04508576931112884,
          0.2783295766323661,
          0.02478854288378507,
          0.10443693787891917,
          0.022085118762467104,
          -0.0556769316984802,
          -0.09440170100802447
         ],
         "yaxis": "y"
        },
        {
         "hovertemplate": "variable=Quantile 2<br>date=%{x}<br>value=%{y}<extra></extra>",
         "legendgroup": "Quantile 2",
         "line": {
          "color": "#EF553B",
          "dash": "solid"
         },
         "marker": {
          "symbol": "circle"
         },
         "mode": "lines",
         "name": "Quantile 2",
         "orientation": "v",
         "showlegend": true,
         "type": "scatter",
         "x": [
          "2013-03-29T00:00:00",
          "2013-06-28T00:00:00",
          "2013-09-30T00:00:00",
          "2013-12-31T00:00:00",
          "2014-03-31T00:00:00",
          "2014-06-30T00:00:00",
          "2014-09-30T00:00:00",
          "2014-12-31T00:00:00",
          "2015-03-31T00:00:00",
          "2015-06-30T00:00:00",
          "2015-09-30T00:00:00",
          "2015-12-31T00:00:00",
          "2016-03-31T00:00:00",
          "2016-06-30T00:00:00",
          "2016-09-30T00:00:00",
          "2016-12-30T00:00:00",
          "2017-03-31T00:00:00",
          "2017-06-30T00:00:00",
          "2017-09-30T00:00:00",
          "2017-12-29T00:00:00",
          "2018-03-31T00:00:00",
          "2018-06-29T00:00:00",
          "2018-09-28T00:00:00",
          "2018-12-28T00:00:00"
         ],
         "xaxis": "x",
         "y": [
          0,
          -0.038399734307049016,
          0.1767972292763833,
          0.03332318640179821,
          0.1927352345644877,
          -0.05522515233158565,
          -0.08395700211930723,
          0.008982412788657967,
          0.07313570458054386,
          -0.06403912370593368,
          -0.12497808047592507,
          0.04267554384779437,
          -0.02976947665336027,
          -0.015716416320584514,
          0.033816822623371934,
          0.07236602988408691,
          -0.003308298439881341,
          0.07494179975059545,
          0.1313964056723531,
          -0.02268724705809788,
          0.09833719216420178,
          -0.012566721712516937,
          0.05343030642214508,
          -0.03693397990523195
         ],
         "yaxis": "y"
        },
        {
         "hovertemplate": "variable=Quantile 3<br>date=%{x}<br>value=%{y}<extra></extra>",
         "legendgroup": "Quantile 3",
         "line": {
          "color": "#00cc96",
          "dash": "solid"
         },
         "marker": {
          "symbol": "circle"
         },
         "mode": "lines",
         "name": "Quantile 3",
         "orientation": "v",
         "showlegend": true,
         "type": "scatter",
         "x": [
          "2013-03-29T00:00:00",
          "2013-06-28T00:00:00",
          "2013-09-30T00:00:00",
          "2013-12-31T00:00:00",
          "2014-03-31T00:00:00",
          "2014-06-30T00:00:00",
          "2014-09-30T00:00:00",
          "2014-12-31T00:00:00",
          "2015-03-31T00:00:00",
          "2015-06-30T00:00:00",
          "2015-09-30T00:00:00",
          "2015-12-31T00:00:00",
          "2016-03-31T00:00:00",
          "2016-06-30T00:00:00",
          "2016-09-30T00:00:00",
          "2016-12-30T00:00:00",
          "2017-03-31T00:00:00",
          "2017-06-30T00:00:00",
          "2017-09-30T00:00:00",
          "2017-12-29T00:00:00",
          "2018-03-31T00:00:00",
          "2018-06-29T00:00:00",
          "2018-09-28T00:00:00",
          "2018-12-28T00:00:00"
         ],
         "xaxis": "x",
         "y": [
          0,
          0.13062806556949447,
          -0.05204327692267263,
          -0.0016910667571234939,
          0.14031502631744353,
          -0.05869645714121141,
          0.07357755525771381,
          -0.04711950157538958,
          0.04911305929915066,
          -0.1259821610588574,
          -0.0942013846056593,
          -0.06608661512805547,
          0.014782218309250084,
          -0.08056687836674925,
          0.010855381588131152,
          0.011446186494660893,
          0.0922568472943297,
          -0.03633807568140668,
          -0.007129678977978671,
          0.0456236977917861,
          0.09689653232215178,
          0.0019465009997610139,
          -0.05518054177147391,
          -0.05699006371838067
         ],
         "yaxis": "y"
        },
        {
         "hovertemplate": "variable=Quantile 4<br>date=%{x}<br>value=%{y}<extra></extra>",
         "legendgroup": "Quantile 4",
         "line": {
          "color": "#ab63fa",
          "dash": "solid"
         },
         "marker": {
          "symbol": "circle"
         },
         "mode": "lines",
         "name": "Quantile 4",
         "orientation": "v",
         "showlegend": true,
         "type": "scatter",
         "x": [
          "2013-03-29T00:00:00",
          "2013-06-28T00:00:00",
          "2013-09-30T00:00:00",
          "2013-12-31T00:00:00",
          "2014-03-31T00:00:00",
          "2014-06-30T00:00:00",
          "2014-09-30T00:00:00",
          "2014-12-31T00:00:00",
          "2015-03-31T00:00:00",
          "2015-06-30T00:00:00",
          "2015-09-30T00:00:00",
          "2015-12-31T00:00:00",
          "2016-03-31T00:00:00",
          "2016-06-30T00:00:00",
          "2016-09-30T00:00:00",
          "2016-12-30T00:00:00",
          "2017-03-31T00:00:00",
          "2017-06-30T00:00:00",
          "2017-09-30T00:00:00",
          "2017-12-29T00:00:00",
          "2018-03-31T00:00:00",
          "2018-06-29T00:00:00",
          "2018-09-28T00:00:00",
          "2018-12-28T00:00:00"
         ],
         "xaxis": "x",
         "y": [
          0,
          0.014127600382995098,
          0.04772917395084342,
          -0.05040697139753547,
          0.0869899575106583,
          0.13488024614512284,
          -0.08903240671087609,
          -0.03874197822738168,
          0.005430879853408399,
          -0.01907610160866291,
          -0.10273223181865809,
          -0.002408825946279336,
          -0.03668191909307694,
          -0.03960611391367763,
          -0.003330843293433361,
          -0.1426077492276594,
          0.019826895176169756,
          -0.03669548555114055,
          0.05224519692988849,
          0.021079450212626583,
          -0.03847416842416074,
          0.004798639133383631,
          0.03365874845526484,
          0.005089329333918258
         ],
         "yaxis": "y"
        }
       ],
       "layout": {
        "legend": {
         "title": {
          "text": "variable"
         },
         "tracegroupgap": 0
        },
        "template": {
         "data": {
          "bar": [
           {
            "error_x": {
             "color": "#2a3f5f"
            },
            "error_y": {
             "color": "#2a3f5f"
            },
            "marker": {
             "line": {
              "color": "#E5ECF6",
              "width": 0.5
             },
             "pattern": {
              "fillmode": "overlay",
              "size": 10,
              "solidity": 0.2
             }
            },
            "type": "bar"
           }
          ],
          "barpolar": [
           {
            "marker": {
             "line": {
              "color": "#E5ECF6",
              "width": 0.5
             },
             "pattern": {
              "fillmode": "overlay",
              "size": 10,
              "solidity": 0.2
             }
            },
            "type": "barpolar"
           }
          ],
          "carpet": [
           {
            "aaxis": {
             "endlinecolor": "#2a3f5f",
             "gridcolor": "white",
             "linecolor": "white",
             "minorgridcolor": "white",
             "startlinecolor": "#2a3f5f"
            },
            "baxis": {
             "endlinecolor": "#2a3f5f",
             "gridcolor": "white",
             "linecolor": "white",
             "minorgridcolor": "white",
             "startlinecolor": "#2a3f5f"
            },
            "type": "carpet"
           }
          ],
          "choropleth": [
           {
            "colorbar": {
             "outlinewidth": 0,
             "ticks": ""
            },
            "type": "choropleth"
           }
          ],
          "contour": [
           {
            "colorbar": {
             "outlinewidth": 0,
             "ticks": ""
            },
            "colorscale": [
             [
              0,
              "#0d0887"
             ],
             [
              0.1111111111111111,
              "#46039f"
             ],
             [
              0.2222222222222222,
              "#7201a8"
             ],
             [
              0.3333333333333333,
              "#9c179e"
             ],
             [
              0.4444444444444444,
              "#bd3786"
             ],
             [
              0.5555555555555556,
              "#d8576b"
             ],
             [
              0.6666666666666666,
              "#ed7953"
             ],
             [
              0.7777777777777778,
              "#fb9f3a"
             ],
             [
              0.8888888888888888,
              "#fdca26"
             ],
             [
              1,
              "#f0f921"
             ]
            ],
            "type": "contour"
           }
          ],
          "contourcarpet": [
           {
            "colorbar": {
             "outlinewidth": 0,
             "ticks": ""
            },
            "type": "contourcarpet"
           }
          ],
          "heatmap": [
           {
            "colorbar": {
             "outlinewidth": 0,
             "ticks": ""
            },
            "colorscale": [
             [
              0,
              "#0d0887"
             ],
             [
              0.1111111111111111,
              "#46039f"
             ],
             [
              0.2222222222222222,
              "#7201a8"
             ],
             [
              0.3333333333333333,
              "#9c179e"
             ],
             [
              0.4444444444444444,
              "#bd3786"
             ],
             [
              0.5555555555555556,
              "#d8576b"
             ],
             [
              0.6666666666666666,
              "#ed7953"
             ],
             [
              0.7777777777777778,
              "#fb9f3a"
             ],
             [
              0.8888888888888888,
              "#fdca26"
             ],
             [
              1,
              "#f0f921"
             ]
            ],
            "type": "heatmap"
           }
          ],
          "heatmapgl": [
           {
            "colorbar": {
             "outlinewidth": 0,
             "ticks": ""
            },
            "colorscale": [
             [
              0,
              "#0d0887"
             ],
             [
              0.1111111111111111,
              "#46039f"
             ],
             [
              0.2222222222222222,
              "#7201a8"
             ],
             [
              0.3333333333333333,
              "#9c179e"
             ],
             [
              0.4444444444444444,
              "#bd3786"
             ],
             [
              0.5555555555555556,
              "#d8576b"
             ],
             [
              0.6666666666666666,
              "#ed7953"
             ],
             [
              0.7777777777777778,
              "#fb9f3a"
             ],
             [
              0.8888888888888888,
              "#fdca26"
             ],
             [
              1,
              "#f0f921"
             ]
            ],
            "type": "heatmapgl"
           }
          ],
          "histogram": [
           {
            "marker": {
             "pattern": {
              "fillmode": "overlay",
              "size": 10,
              "solidity": 0.2
             }
            },
            "type": "histogram"
           }
          ],
          "histogram2d": [
           {
            "colorbar": {
             "outlinewidth": 0,
             "ticks": ""
            },
            "colorscale": [
             [
              0,
              "#0d0887"
             ],
             [
              0.1111111111111111,
              "#46039f"
             ],
             [
              0.2222222222222222,
              "#7201a8"
             ],
             [
              0.3333333333333333,
              "#9c179e"
             ],
             [
              0.4444444444444444,
              "#bd3786"
             ],
             [
              0.5555555555555556,
              "#d8576b"
             ],
             [
              0.6666666666666666,
              "#ed7953"
             ],
             [
              0.7777777777777778,
              "#fb9f3a"
             ],
             [
              0.8888888888888888,
              "#fdca26"
             ],
             [
              1,
              "#f0f921"
             ]
            ],
            "type": "histogram2d"
           }
          ],
          "histogram2dcontour": [
           {
            "colorbar": {
             "outlinewidth": 0,
             "ticks": ""
            },
            "colorscale": [
             [
              0,
              "#0d0887"
             ],
             [
              0.1111111111111111,
              "#46039f"
             ],
             [
              0.2222222222222222,
              "#7201a8"
             ],
             [
              0.3333333333333333,
              "#9c179e"
             ],
             [
              0.4444444444444444,
              "#bd3786"
             ],
             [
              0.5555555555555556,
              "#d8576b"
             ],
             [
              0.6666666666666666,
              "#ed7953"
             ],
             [
              0.7777777777777778,
              "#fb9f3a"
             ],
             [
              0.8888888888888888,
              "#fdca26"
             ],
             [
              1,
              "#f0f921"
             ]
            ],
            "type": "histogram2dcontour"
           }
          ],
          "mesh3d": [
           {
            "colorbar": {
             "outlinewidth": 0,
             "ticks": ""
            },
            "type": "mesh3d"
           }
          ],
          "parcoords": [
           {
            "line": {
             "colorbar": {
              "outlinewidth": 0,
              "ticks": ""
             }
            },
            "type": "parcoords"
           }
          ],
          "pie": [
           {
            "automargin": true,
            "type": "pie"
           }
          ],
          "scatter": [
           {
            "fillpattern": {
             "fillmode": "overlay",
             "size": 10,
             "solidity": 0.2
            },
            "type": "scatter"
           }
          ],
          "scatter3d": [
           {
            "line": {
             "colorbar": {
              "outlinewidth": 0,
              "ticks": ""
             }
            },
            "marker": {
             "colorbar": {
              "outlinewidth": 0,
              "ticks": ""
             }
            },
            "type": "scatter3d"
           }
          ],
          "scattercarpet": [
           {
            "marker": {
             "colorbar": {
              "outlinewidth": 0,
              "ticks": ""
             }
            },
            "type": "scattercarpet"
           }
          ],
          "scattergeo": [
           {
            "marker": {
             "colorbar": {
              "outlinewidth": 0,
              "ticks": ""
             }
            },
            "type": "scattergeo"
           }
          ],
          "scattergl": [
           {
            "marker": {
             "colorbar": {
              "outlinewidth": 0,
              "ticks": ""
             }
            },
            "type": "scattergl"
           }
          ],
          "scattermapbox": [
           {
            "marker": {
             "colorbar": {
              "outlinewidth": 0,
              "ticks": ""
             }
            },
            "type": "scattermapbox"
           }
          ],
          "scatterpolar": [
           {
            "marker": {
             "colorbar": {
              "outlinewidth": 0,
              "ticks": ""
             }
            },
            "type": "scatterpolar"
           }
          ],
          "scatterpolargl": [
           {
            "marker": {
             "colorbar": {
              "outlinewidth": 0,
              "ticks": ""
             }
            },
            "type": "scatterpolargl"
           }
          ],
          "scatterternary": [
           {
            "marker": {
             "colorbar": {
              "outlinewidth": 0,
              "ticks": ""
             }
            },
            "type": "scatterternary"
           }
          ],
          "surface": [
           {
            "colorbar": {
             "outlinewidth": 0,
             "ticks": ""
            },
            "colorscale": [
             [
              0,
              "#0d0887"
             ],
             [
              0.1111111111111111,
              "#46039f"
             ],
             [
              0.2222222222222222,
              "#7201a8"
             ],
             [
              0.3333333333333333,
              "#9c179e"
             ],
             [
              0.4444444444444444,
              "#bd3786"
             ],
             [
              0.5555555555555556,
              "#d8576b"
             ],
             [
              0.6666666666666666,
              "#ed7953"
             ],
             [
              0.7777777777777778,
              "#fb9f3a"
             ],
             [
              0.8888888888888888,
              "#fdca26"
             ],
             [
              1,
              "#f0f921"
             ]
            ],
            "type": "surface"
           }
          ],
          "table": [
           {
            "cells": {
             "fill": {
              "color": "#EBF0F8"
             },
             "line": {
              "color": "white"
             }
            },
            "header": {
             "fill": {
              "color": "#C8D4E3"
             },
             "line": {
              "color": "white"
             }
            },
            "type": "table"
           }
          ]
         },
         "layout": {
          "annotationdefaults": {
           "arrowcolor": "#2a3f5f",
           "arrowhead": 0,
           "arrowwidth": 1
          },
          "autotypenumbers": "strict",
          "coloraxis": {
           "colorbar": {
            "outlinewidth": 0,
            "ticks": ""
           }
          },
          "colorscale": {
           "diverging": [
            [
             0,
             "#8e0152"
            ],
            [
             0.1,
             "#c51b7d"
            ],
            [
             0.2,
             "#de77ae"
            ],
            [
             0.3,
             "#f1b6da"
            ],
            [
             0.4,
             "#fde0ef"
            ],
            [
             0.5,
             "#f7f7f7"
            ],
            [
             0.6,
             "#e6f5d0"
            ],
            [
             0.7,
             "#b8e186"
            ],
            [
             0.8,
             "#7fbc41"
            ],
            [
             0.9,
             "#4d9221"
            ],
            [
             1,
             "#276419"
            ]
           ],
           "sequential": [
            [
             0,
             "#0d0887"
            ],
            [
             0.1111111111111111,
             "#46039f"
            ],
            [
             0.2222222222222222,
             "#7201a8"
            ],
            [
             0.3333333333333333,
             "#9c179e"
            ],
            [
             0.4444444444444444,
             "#bd3786"
            ],
            [
             0.5555555555555556,
             "#d8576b"
            ],
            [
             0.6666666666666666,
             "#ed7953"
            ],
            [
             0.7777777777777778,
             "#fb9f3a"
            ],
            [
             0.8888888888888888,
             "#fdca26"
            ],
            [
             1,
             "#f0f921"
            ]
           ],
           "sequentialminus": [
            [
             0,
             "#0d0887"
            ],
            [
             0.1111111111111111,
             "#46039f"
            ],
            [
             0.2222222222222222,
             "#7201a8"
            ],
            [
             0.3333333333333333,
             "#9c179e"
            ],
            [
             0.4444444444444444,
             "#bd3786"
            ],
            [
             0.5555555555555556,
             "#d8576b"
            ],
            [
             0.6666666666666666,
             "#ed7953"
            ],
            [
             0.7777777777777778,
             "#fb9f3a"
            ],
            [
             0.8888888888888888,
             "#fdca26"
            ],
            [
             1,
             "#f0f921"
            ]
           ]
          },
          "colorway": [
           "#636efa",
           "#EF553B",
           "#00cc96",
           "#ab63fa",
           "#FFA15A",
           "#19d3f3",
           "#FF6692",
           "#B6E880",
           "#FF97FF",
           "#FECB52"
          ],
          "font": {
           "color": "#2a3f5f"
          },
          "geo": {
           "bgcolor": "white",
           "lakecolor": "white",
           "landcolor": "#E5ECF6",
           "showlakes": true,
           "showland": true,
           "subunitcolor": "white"
          },
          "hoverlabel": {
           "align": "left"
          },
          "hovermode": "closest",
          "mapbox": {
           "style": "light"
          },
          "paper_bgcolor": "white",
          "plot_bgcolor": "#E5ECF6",
          "polar": {
           "angularaxis": {
            "gridcolor": "white",
            "linecolor": "white",
            "ticks": ""
           },
           "bgcolor": "#E5ECF6",
           "radialaxis": {
            "gridcolor": "white",
            "linecolor": "white",
            "ticks": ""
           }
          },
          "scene": {
           "xaxis": {
            "backgroundcolor": "#E5ECF6",
            "gridcolor": "white",
            "gridwidth": 2,
            "linecolor": "white",
            "showbackground": true,
            "ticks": "",
            "zerolinecolor": "white"
           },
           "yaxis": {
            "backgroundcolor": "#E5ECF6",
            "gridcolor": "white",
            "gridwidth": 2,
            "linecolor": "white",
            "showbackground": true,
            "ticks": "",
            "zerolinecolor": "white"
           },
           "zaxis": {
            "backgroundcolor": "#E5ECF6",
            "gridcolor": "white",
            "gridwidth": 2,
            "linecolor": "white",
            "showbackground": true,
            "ticks": "",
            "zerolinecolor": "white"
           }
          },
          "shapedefaults": {
           "line": {
            "color": "#2a3f5f"
           }
          },
          "ternary": {
           "aaxis": {
            "gridcolor": "white",
            "linecolor": "white",
            "ticks": ""
           },
           "baxis": {
            "gridcolor": "white",
            "linecolor": "white",
            "ticks": ""
           },
           "bgcolor": "#E5ECF6",
           "caxis": {
            "gridcolor": "white",
            "linecolor": "white",
            "ticks": ""
           }
          },
          "title": {
           "x": 0.05
          },
          "xaxis": {
           "automargin": true,
           "gridcolor": "white",
           "linecolor": "white",
           "ticks": "",
           "title": {
            "standoff": 15
           },
           "zerolinecolor": "white",
           "zerolinewidth": 2
          },
          "yaxis": {
           "automargin": true,
           "gridcolor": "white",
           "linecolor": "white",
           "ticks": "",
           "title": {
            "standoff": 15
           },
           "zerolinecolor": "white",
           "zerolinewidth": 2
          }
         }
        },
        "title": {
         "text": "portfolio_returns折線圖"
        },
        "xaxis": {
         "anchor": "y",
         "domain": [
          0,
          1
         ],
         "title": {
          "text": "date"
         }
        },
        "yaxis": {
         "anchor": "x",
         "domain": [
          0,
          1
         ],
         "title": {
          "text": "value"
         }
        }
       }
      }
     },
     "metadata": {},
     "output_type": "display_data"
    },
    {
     "name": "stdout",
     "output_type": "stream",
     "text": [
      "因子:  EPS\n"
     ]
    },
    {
     "data": {
      "application/vnd.plotly.v1+json": {
       "config": {
        "plotlyServerURL": "https://plot.ly"
       },
       "data": [
        {
         "hovertemplate": "variable=Quantile 1<br>date=%{x}<br>value=%{y}<extra></extra>",
         "legendgroup": "Quantile 1",
         "line": {
          "color": "#636efa",
          "dash": "solid"
         },
         "marker": {
          "symbol": "circle"
         },
         "mode": "lines",
         "name": "Quantile 1",
         "orientation": "v",
         "showlegend": true,
         "type": "scatter",
         "x": [
          "2013-03-29T00:00:00",
          "2013-06-28T00:00:00",
          "2013-09-30T00:00:00",
          "2013-12-31T00:00:00",
          "2014-03-31T00:00:00",
          "2014-06-30T00:00:00",
          "2014-09-30T00:00:00",
          "2014-12-31T00:00:00",
          "2015-03-31T00:00:00",
          "2015-06-30T00:00:00",
          "2015-09-30T00:00:00",
          "2015-12-31T00:00:00",
          "2016-03-31T00:00:00",
          "2016-06-30T00:00:00",
          "2016-09-30T00:00:00",
          "2016-12-30T00:00:00",
          "2017-03-31T00:00:00",
          "2017-06-30T00:00:00",
          "2017-09-30T00:00:00",
          "2017-12-29T00:00:00",
          "2018-03-31T00:00:00",
          "2018-06-29T00:00:00",
          "2018-09-28T00:00:00",
          "2018-12-28T00:00:00"
         ],
         "xaxis": "x",
         "y": [
          998498.8571,
          1038747.7369,
          1372056.0118000002,
          1539615.7005,
          1979515.5339999998,
          2266857.5196,
          2300933.9926,
          2186097.0407,
          2515261.7034,
          2119954.2791,
          2213468.1816000002,
          2375372.9359,
          2483398.1138999998,
          2521470.0183,
          2536812.0256999996,
          2632801.8287,
          2627005.5792000005,
          2895315.6410000003,
          3168510.1906,
          3315418.0585,
          3682582.8665,
          3921688.4692,
          3731557.4993000003,
          3333615.8168000006
         ],
         "yaxis": "y"
        },
        {
         "hovertemplate": "variable=Quantile 2<br>date=%{x}<br>value=%{y}<extra></extra>",
         "legendgroup": "Quantile 2",
         "line": {
          "color": "#EF553B",
          "dash": "solid"
         },
         "marker": {
          "symbol": "circle"
         },
         "mode": "lines",
         "name": "Quantile 2",
         "orientation": "v",
         "showlegend": true,
         "type": "scatter",
         "x": [
          "2013-03-29T00:00:00",
          "2013-06-28T00:00:00",
          "2013-09-30T00:00:00",
          "2013-12-31T00:00:00",
          "2014-03-31T00:00:00",
          "2014-06-30T00:00:00",
          "2014-09-30T00:00:00",
          "2014-12-31T00:00:00",
          "2015-03-31T00:00:00",
          "2015-06-30T00:00:00",
          "2015-09-30T00:00:00",
          "2015-12-31T00:00:00",
          "2016-03-31T00:00:00",
          "2016-06-30T00:00:00",
          "2016-09-30T00:00:00",
          "2016-12-30T00:00:00",
          "2017-03-31T00:00:00",
          "2017-06-30T00:00:00",
          "2017-09-30T00:00:00",
          "2017-12-29T00:00:00",
          "2018-03-31T00:00:00",
          "2018-06-29T00:00:00",
          "2018-09-28T00:00:00",
          "2018-12-28T00:00:00"
         ],
         "xaxis": "x",
         "y": [
          998503.4787999999,
          1082300.2032,
          1272877.7061,
          1373788.6005000002,
          1506232.8920999998,
          1398682.5651,
          1349925.1512,
          1327027.9871999999,
          1412288.0405000001,
          1333200.294,
          1254088.6785000002,
          1335240.2014000001,
          1320298.4706,
          1288039.59,
          1326200.9089000002,
          1383650.2396,
          1379025.5705,
          1402235.8438,
          1501366.1697,
          1424674.172,
          1562626.1957999999,
          1491641.8155999999,
          1564596.8427000002,
          1569323.2564
         ],
         "yaxis": "y"
        },
        {
         "hovertemplate": "variable=Quantile 3<br>date=%{x}<br>value=%{y}<extra></extra>",
         "legendgroup": "Quantile 3",
         "line": {
          "color": "#00cc96",
          "dash": "solid"
         },
         "marker": {
          "symbol": "circle"
         },
         "mode": "lines",
         "name": "Quantile 3",
         "orientation": "v",
         "showlegend": true,
         "type": "scatter",
         "x": [
          "2013-03-29T00:00:00",
          "2013-06-28T00:00:00",
          "2013-09-30T00:00:00",
          "2013-12-31T00:00:00",
          "2014-03-31T00:00:00",
          "2014-06-30T00:00:00",
          "2014-09-30T00:00:00",
          "2014-12-31T00:00:00",
          "2015-03-31T00:00:00",
          "2015-06-30T00:00:00",
          "2015-09-30T00:00:00",
          "2015-12-31T00:00:00",
          "2016-03-31T00:00:00",
          "2016-06-30T00:00:00",
          "2016-09-30T00:00:00",
          "2016-12-30T00:00:00",
          "2017-03-31T00:00:00",
          "2017-06-30T00:00:00",
          "2017-09-30T00:00:00",
          "2017-12-29T00:00:00",
          "2018-03-31T00:00:00",
          "2018-06-29T00:00:00",
          "2018-09-28T00:00:00",
          "2018-12-28T00:00:00"
         ],
         "xaxis": "x",
         "y": [
          998538.4413,
          1158898.7034999998,
          1168202.1838,
          1153890.2707,
          1332780.5744,
          1244389.3490000002,
          1158983.0381,
          1152560.7116,
          1210763.6272,
          1158236.2485999998,
          1015145.7041999999,
          948291.6344,
          943497.3751999999,
          870271.2742,
          860649.758,
          851271.8576,
          901315.5967000001,
          865848.8755999999,
          874291.5215,
          977466.6413,
          1078825.6218,
          1110534.8662,
          1047531.3795,
          1035337.3241999999
         ],
         "yaxis": "y"
        },
        {
         "hovertemplate": "variable=Quantile 4<br>date=%{x}<br>value=%{y}<extra></extra>",
         "legendgroup": "Quantile 4",
         "line": {
          "color": "#ab63fa",
          "dash": "solid"
         },
         "marker": {
          "symbol": "circle"
         },
         "mode": "lines",
         "name": "Quantile 4",
         "orientation": "v",
         "showlegend": true,
         "type": "scatter",
         "x": [
          "2013-03-29T00:00:00",
          "2013-06-28T00:00:00",
          "2013-09-30T00:00:00",
          "2013-12-31T00:00:00",
          "2014-03-31T00:00:00",
          "2014-06-30T00:00:00",
          "2014-09-30T00:00:00",
          "2014-12-31T00:00:00",
          "2015-03-31T00:00:00",
          "2015-06-30T00:00:00",
          "2015-09-30T00:00:00",
          "2015-12-31T00:00:00",
          "2016-03-31T00:00:00",
          "2016-06-30T00:00:00",
          "2016-09-30T00:00:00",
          "2016-12-30T00:00:00",
          "2017-03-31T00:00:00",
          "2017-06-30T00:00:00",
          "2017-09-30T00:00:00",
          "2017-12-29T00:00:00",
          "2018-03-31T00:00:00",
          "2018-06-29T00:00:00",
          "2018-09-28T00:00:00",
          "2018-12-28T00:00:00"
         ],
         "xaxis": "x",
         "y": [
          998552.5034999999,
          993695.328,
          1003491.0829,
          940837.7646999999,
          1028573.3653,
          1192339.6400000001,
          1085533.5087,
          1067617.2523999999,
          1083620.1345,
          1030925.5936,
          930155.7200000001,
          938590.7245,
          906113.7040000001,
          870208.9088000001,
          874486.8082000001,
          758921.841,
          782952.3207,
          754283.9779,
          989928.4706,
          947262.2872,
          912806.3539000001,
          935320.3469,
          944153.6576,
          943753.5615999999
         ],
         "yaxis": "y"
        }
       ],
       "layout": {
        "legend": {
         "title": {
          "text": "variable"
         },
         "tracegroupgap": 0
        },
        "template": {
         "data": {
          "bar": [
           {
            "error_x": {
             "color": "#2a3f5f"
            },
            "error_y": {
             "color": "#2a3f5f"
            },
            "marker": {
             "line": {
              "color": "#E5ECF6",
              "width": 0.5
             },
             "pattern": {
              "fillmode": "overlay",
              "size": 10,
              "solidity": 0.2
             }
            },
            "type": "bar"
           }
          ],
          "barpolar": [
           {
            "marker": {
             "line": {
              "color": "#E5ECF6",
              "width": 0.5
             },
             "pattern": {
              "fillmode": "overlay",
              "size": 10,
              "solidity": 0.2
             }
            },
            "type": "barpolar"
           }
          ],
          "carpet": [
           {
            "aaxis": {
             "endlinecolor": "#2a3f5f",
             "gridcolor": "white",
             "linecolor": "white",
             "minorgridcolor": "white",
             "startlinecolor": "#2a3f5f"
            },
            "baxis": {
             "endlinecolor": "#2a3f5f",
             "gridcolor": "white",
             "linecolor": "white",
             "minorgridcolor": "white",
             "startlinecolor": "#2a3f5f"
            },
            "type": "carpet"
           }
          ],
          "choropleth": [
           {
            "colorbar": {
             "outlinewidth": 0,
             "ticks": ""
            },
            "type": "choropleth"
           }
          ],
          "contour": [
           {
            "colorbar": {
             "outlinewidth": 0,
             "ticks": ""
            },
            "colorscale": [
             [
              0,
              "#0d0887"
             ],
             [
              0.1111111111111111,
              "#46039f"
             ],
             [
              0.2222222222222222,
              "#7201a8"
             ],
             [
              0.3333333333333333,
              "#9c179e"
             ],
             [
              0.4444444444444444,
              "#bd3786"
             ],
             [
              0.5555555555555556,
              "#d8576b"
             ],
             [
              0.6666666666666666,
              "#ed7953"
             ],
             [
              0.7777777777777778,
              "#fb9f3a"
             ],
             [
              0.8888888888888888,
              "#fdca26"
             ],
             [
              1,
              "#f0f921"
             ]
            ],
            "type": "contour"
           }
          ],
          "contourcarpet": [
           {
            "colorbar": {
             "outlinewidth": 0,
             "ticks": ""
            },
            "type": "contourcarpet"
           }
          ],
          "heatmap": [
           {
            "colorbar": {
             "outlinewidth": 0,
             "ticks": ""
            },
            "colorscale": [
             [
              0,
              "#0d0887"
             ],
             [
              0.1111111111111111,
              "#46039f"
             ],
             [
              0.2222222222222222,
              "#7201a8"
             ],
             [
              0.3333333333333333,
              "#9c179e"
             ],
             [
              0.4444444444444444,
              "#bd3786"
             ],
             [
              0.5555555555555556,
              "#d8576b"
             ],
             [
              0.6666666666666666,
              "#ed7953"
             ],
             [
              0.7777777777777778,
              "#fb9f3a"
             ],
             [
              0.8888888888888888,
              "#fdca26"
             ],
             [
              1,
              "#f0f921"
             ]
            ],
            "type": "heatmap"
           }
          ],
          "heatmapgl": [
           {
            "colorbar": {
             "outlinewidth": 0,
             "ticks": ""
            },
            "colorscale": [
             [
              0,
              "#0d0887"
             ],
             [
              0.1111111111111111,
              "#46039f"
             ],
             [
              0.2222222222222222,
              "#7201a8"
             ],
             [
              0.3333333333333333,
              "#9c179e"
             ],
             [
              0.4444444444444444,
              "#bd3786"
             ],
             [
              0.5555555555555556,
              "#d8576b"
             ],
             [
              0.6666666666666666,
              "#ed7953"
             ],
             [
              0.7777777777777778,
              "#fb9f3a"
             ],
             [
              0.8888888888888888,
              "#fdca26"
             ],
             [
              1,
              "#f0f921"
             ]
            ],
            "type": "heatmapgl"
           }
          ],
          "histogram": [
           {
            "marker": {
             "pattern": {
              "fillmode": "overlay",
              "size": 10,
              "solidity": 0.2
             }
            },
            "type": "histogram"
           }
          ],
          "histogram2d": [
           {
            "colorbar": {
             "outlinewidth": 0,
             "ticks": ""
            },
            "colorscale": [
             [
              0,
              "#0d0887"
             ],
             [
              0.1111111111111111,
              "#46039f"
             ],
             [
              0.2222222222222222,
              "#7201a8"
             ],
             [
              0.3333333333333333,
              "#9c179e"
             ],
             [
              0.4444444444444444,
              "#bd3786"
             ],
             [
              0.5555555555555556,
              "#d8576b"
             ],
             [
              0.6666666666666666,
              "#ed7953"
             ],
             [
              0.7777777777777778,
              "#fb9f3a"
             ],
             [
              0.8888888888888888,
              "#fdca26"
             ],
             [
              1,
              "#f0f921"
             ]
            ],
            "type": "histogram2d"
           }
          ],
          "histogram2dcontour": [
           {
            "colorbar": {
             "outlinewidth": 0,
             "ticks": ""
            },
            "colorscale": [
             [
              0,
              "#0d0887"
             ],
             [
              0.1111111111111111,
              "#46039f"
             ],
             [
              0.2222222222222222,
              "#7201a8"
             ],
             [
              0.3333333333333333,
              "#9c179e"
             ],
             [
              0.4444444444444444,
              "#bd3786"
             ],
             [
              0.5555555555555556,
              "#d8576b"
             ],
             [
              0.6666666666666666,
              "#ed7953"
             ],
             [
              0.7777777777777778,
              "#fb9f3a"
             ],
             [
              0.8888888888888888,
              "#fdca26"
             ],
             [
              1,
              "#f0f921"
             ]
            ],
            "type": "histogram2dcontour"
           }
          ],
          "mesh3d": [
           {
            "colorbar": {
             "outlinewidth": 0,
             "ticks": ""
            },
            "type": "mesh3d"
           }
          ],
          "parcoords": [
           {
            "line": {
             "colorbar": {
              "outlinewidth": 0,
              "ticks": ""
             }
            },
            "type": "parcoords"
           }
          ],
          "pie": [
           {
            "automargin": true,
            "type": "pie"
           }
          ],
          "scatter": [
           {
            "fillpattern": {
             "fillmode": "overlay",
             "size": 10,
             "solidity": 0.2
            },
            "type": "scatter"
           }
          ],
          "scatter3d": [
           {
            "line": {
             "colorbar": {
              "outlinewidth": 0,
              "ticks": ""
             }
            },
            "marker": {
             "colorbar": {
              "outlinewidth": 0,
              "ticks": ""
             }
            },
            "type": "scatter3d"
           }
          ],
          "scattercarpet": [
           {
            "marker": {
             "colorbar": {
              "outlinewidth": 0,
              "ticks": ""
             }
            },
            "type": "scattercarpet"
           }
          ],
          "scattergeo": [
           {
            "marker": {
             "colorbar": {
              "outlinewidth": 0,
              "ticks": ""
             }
            },
            "type": "scattergeo"
           }
          ],
          "scattergl": [
           {
            "marker": {
             "colorbar": {
              "outlinewidth": 0,
              "ticks": ""
             }
            },
            "type": "scattergl"
           }
          ],
          "scattermapbox": [
           {
            "marker": {
             "colorbar": {
              "outlinewidth": 0,
              "ticks": ""
             }
            },
            "type": "scattermapbox"
           }
          ],
          "scatterpolar": [
           {
            "marker": {
             "colorbar": {
              "outlinewidth": 0,
              "ticks": ""
             }
            },
            "type": "scatterpolar"
           }
          ],
          "scatterpolargl": [
           {
            "marker": {
             "colorbar": {
              "outlinewidth": 0,
              "ticks": ""
             }
            },
            "type": "scatterpolargl"
           }
          ],
          "scatterternary": [
           {
            "marker": {
             "colorbar": {
              "outlinewidth": 0,
              "ticks": ""
             }
            },
            "type": "scatterternary"
           }
          ],
          "surface": [
           {
            "colorbar": {
             "outlinewidth": 0,
             "ticks": ""
            },
            "colorscale": [
             [
              0,
              "#0d0887"
             ],
             [
              0.1111111111111111,
              "#46039f"
             ],
             [
              0.2222222222222222,
              "#7201a8"
             ],
             [
              0.3333333333333333,
              "#9c179e"
             ],
             [
              0.4444444444444444,
              "#bd3786"
             ],
             [
              0.5555555555555556,
              "#d8576b"
             ],
             [
              0.6666666666666666,
              "#ed7953"
             ],
             [
              0.7777777777777778,
              "#fb9f3a"
             ],
             [
              0.8888888888888888,
              "#fdca26"
             ],
             [
              1,
              "#f0f921"
             ]
            ],
            "type": "surface"
           }
          ],
          "table": [
           {
            "cells": {
             "fill": {
              "color": "#EBF0F8"
             },
             "line": {
              "color": "white"
             }
            },
            "header": {
             "fill": {
              "color": "#C8D4E3"
             },
             "line": {
              "color": "white"
             }
            },
            "type": "table"
           }
          ]
         },
         "layout": {
          "annotationdefaults": {
           "arrowcolor": "#2a3f5f",
           "arrowhead": 0,
           "arrowwidth": 1
          },
          "autotypenumbers": "strict",
          "coloraxis": {
           "colorbar": {
            "outlinewidth": 0,
            "ticks": ""
           }
          },
          "colorscale": {
           "diverging": [
            [
             0,
             "#8e0152"
            ],
            [
             0.1,
             "#c51b7d"
            ],
            [
             0.2,
             "#de77ae"
            ],
            [
             0.3,
             "#f1b6da"
            ],
            [
             0.4,
             "#fde0ef"
            ],
            [
             0.5,
             "#f7f7f7"
            ],
            [
             0.6,
             "#e6f5d0"
            ],
            [
             0.7,
             "#b8e186"
            ],
            [
             0.8,
             "#7fbc41"
            ],
            [
             0.9,
             "#4d9221"
            ],
            [
             1,
             "#276419"
            ]
           ],
           "sequential": [
            [
             0,
             "#0d0887"
            ],
            [
             0.1111111111111111,
             "#46039f"
            ],
            [
             0.2222222222222222,
             "#7201a8"
            ],
            [
             0.3333333333333333,
             "#9c179e"
            ],
            [
             0.4444444444444444,
             "#bd3786"
            ],
            [
             0.5555555555555556,
             "#d8576b"
            ],
            [
             0.6666666666666666,
             "#ed7953"
            ],
            [
             0.7777777777777778,
             "#fb9f3a"
            ],
            [
             0.8888888888888888,
             "#fdca26"
            ],
            [
             1,
             "#f0f921"
            ]
           ],
           "sequentialminus": [
            [
             0,
             "#0d0887"
            ],
            [
             0.1111111111111111,
             "#46039f"
            ],
            [
             0.2222222222222222,
             "#7201a8"
            ],
            [
             0.3333333333333333,
             "#9c179e"
            ],
            [
             0.4444444444444444,
             "#bd3786"
            ],
            [
             0.5555555555555556,
             "#d8576b"
            ],
            [
             0.6666666666666666,
             "#ed7953"
            ],
            [
             0.7777777777777778,
             "#fb9f3a"
            ],
            [
             0.8888888888888888,
             "#fdca26"
            ],
            [
             1,
             "#f0f921"
            ]
           ]
          },
          "colorway": [
           "#636efa",
           "#EF553B",
           "#00cc96",
           "#ab63fa",
           "#FFA15A",
           "#19d3f3",
           "#FF6692",
           "#B6E880",
           "#FF97FF",
           "#FECB52"
          ],
          "font": {
           "color": "#2a3f5f"
          },
          "geo": {
           "bgcolor": "white",
           "lakecolor": "white",
           "landcolor": "#E5ECF6",
           "showlakes": true,
           "showland": true,
           "subunitcolor": "white"
          },
          "hoverlabel": {
           "align": "left"
          },
          "hovermode": "closest",
          "mapbox": {
           "style": "light"
          },
          "paper_bgcolor": "white",
          "plot_bgcolor": "#E5ECF6",
          "polar": {
           "angularaxis": {
            "gridcolor": "white",
            "linecolor": "white",
            "ticks": ""
           },
           "bgcolor": "#E5ECF6",
           "radialaxis": {
            "gridcolor": "white",
            "linecolor": "white",
            "ticks": ""
           }
          },
          "scene": {
           "xaxis": {
            "backgroundcolor": "#E5ECF6",
            "gridcolor": "white",
            "gridwidth": 2,
            "linecolor": "white",
            "showbackground": true,
            "ticks": "",
            "zerolinecolor": "white"
           },
           "yaxis": {
            "backgroundcolor": "#E5ECF6",
            "gridcolor": "white",
            "gridwidth": 2,
            "linecolor": "white",
            "showbackground": true,
            "ticks": "",
            "zerolinecolor": "white"
           },
           "zaxis": {
            "backgroundcolor": "#E5ECF6",
            "gridcolor": "white",
            "gridwidth": 2,
            "linecolor": "white",
            "showbackground": true,
            "ticks": "",
            "zerolinecolor": "white"
           }
          },
          "shapedefaults": {
           "line": {
            "color": "#2a3f5f"
           }
          },
          "ternary": {
           "aaxis": {
            "gridcolor": "white",
            "linecolor": "white",
            "ticks": ""
           },
           "baxis": {
            "gridcolor": "white",
            "linecolor": "white",
            "ticks": ""
           },
           "bgcolor": "#E5ECF6",
           "caxis": {
            "gridcolor": "white",
            "linecolor": "white",
            "ticks": ""
           }
          },
          "title": {
           "x": 0.05
          },
          "xaxis": {
           "automargin": true,
           "gridcolor": "white",
           "linecolor": "white",
           "ticks": "",
           "title": {
            "standoff": 15
           },
           "zerolinecolor": "white",
           "zerolinewidth": 2
          },
          "yaxis": {
           "automargin": true,
           "gridcolor": "white",
           "linecolor": "white",
           "ticks": "",
           "title": {
            "standoff": 15
           },
           "zerolinecolor": "white",
           "zerolinewidth": 2
          }
         }
        },
        "title": {
         "text": "portfolio_value折線圖"
        },
        "xaxis": {
         "anchor": "y",
         "domain": [
          0,
          1
         ],
         "title": {
          "text": "date"
         }
        },
        "yaxis": {
         "anchor": "x",
         "domain": [
          0,
          1
         ],
         "title": {
          "text": "value"
         }
        }
       }
      }
     },
     "metadata": {},
     "output_type": "display_data"
    },
    {
     "name": "stdout",
     "output_type": "stream",
     "text": [
      "因子:  ROE\n"
     ]
    },
    {
     "data": {
      "application/vnd.plotly.v1+json": {
       "config": {
        "plotlyServerURL": "https://plot.ly"
       },
       "data": [
        {
         "hovertemplate": "variable=Quantile 1<br>date=%{x}<br>value=%{y}<extra></extra>",
         "legendgroup": "Quantile 1",
         "line": {
          "color": "#636efa",
          "dash": "solid"
         },
         "marker": {
          "symbol": "circle"
         },
         "mode": "lines",
         "name": "Quantile 1",
         "orientation": "v",
         "showlegend": true,
         "type": "scatter",
         "x": [
          "2013-03-29T00:00:00",
          "2013-06-28T00:00:00",
          "2013-09-30T00:00:00",
          "2013-12-31T00:00:00",
          "2014-03-31T00:00:00",
          "2014-06-30T00:00:00",
          "2014-09-30T00:00:00",
          "2014-12-31T00:00:00",
          "2015-03-31T00:00:00",
          "2015-06-30T00:00:00",
          "2015-09-30T00:00:00",
          "2015-12-31T00:00:00",
          "2016-03-31T00:00:00",
          "2016-06-30T00:00:00",
          "2016-09-30T00:00:00",
          "2016-12-30T00:00:00",
          "2017-03-31T00:00:00",
          "2017-06-30T00:00:00",
          "2017-09-30T00:00:00",
          "2017-12-29T00:00:00",
          "2018-03-31T00:00:00",
          "2018-06-29T00:00:00",
          "2018-09-28T00:00:00",
          "2018-12-28T00:00:00"
         ],
         "xaxis": "x",
         "y": [
          998496.6496999998,
          1163161.2094,
          1535133.8622,
          1735242.1165999998,
          2048687.5691000002,
          2286359.6613,
          2159404.1333999997,
          2124086.006,
          2402197.2304,
          2104295.4844,
          2235595.9211,
          2479980.9777,
          2577801.9056,
          2577726.4365999997,
          2574892.7109000003,
          2536957.7418,
          2509266.6046,
          2624987.9101,
          3467402.8898,
          3554428.9231000002,
          3945719.6078,
          4033830.6844,
          3815377.2079999996,
          3471677.2475
         ],
         "yaxis": "y"
        },
        {
         "hovertemplate": "variable=Quantile 2<br>date=%{x}<br>value=%{y}<extra></extra>",
         "legendgroup": "Quantile 2",
         "line": {
          "color": "#EF553B",
          "dash": "solid"
         },
         "marker": {
          "symbol": "circle"
         },
         "mode": "lines",
         "name": "Quantile 2",
         "orientation": "v",
         "showlegend": true,
         "type": "scatter",
         "x": [
          "2013-03-29T00:00:00",
          "2013-06-28T00:00:00",
          "2013-09-30T00:00:00",
          "2013-12-31T00:00:00",
          "2014-03-31T00:00:00",
          "2014-06-30T00:00:00",
          "2014-09-30T00:00:00",
          "2014-12-31T00:00:00",
          "2015-03-31T00:00:00",
          "2015-06-30T00:00:00",
          "2015-09-30T00:00:00",
          "2015-12-31T00:00:00",
          "2016-03-31T00:00:00",
          "2016-06-30T00:00:00",
          "2016-09-30T00:00:00",
          "2016-12-30T00:00:00",
          "2017-03-31T00:00:00",
          "2017-06-30T00:00:00",
          "2017-09-30T00:00:00",
          "2017-12-29T00:00:00",
          "2018-03-31T00:00:00",
          "2018-06-29T00:00:00",
          "2018-09-28T00:00:00",
          "2018-12-28T00:00:00"
         ],
         "xaxis": "x",
         "y": [
          998516.2912999999,
          960900.3737000001,
          1146728.017,
          1185584.4632,
          1437594.32,
          1360355.3509999998,
          1250807.01,
          1262092.8862,
          1357856.1129,
          1273625.9926,
          1123995.6306999999,
          1173000.9833999998,
          1138596.0079,
          1120841.2451,
          1159392.7048000002,
          1246403.7036,
          1242287.0415,
          1338963.5826,
          1526980.5283000001,
          1492727.5657000002,
          1646978.2078,
          1626410.5954,
          1715673.6535,
          1653462.9141
         ],
         "yaxis": "y"
        },
        {
         "hovertemplate": "variable=Quantile 3<br>date=%{x}<br>value=%{y}<extra></extra>",
         "legendgroup": "Quantile 3",
         "line": {
          "color": "#00cc96",
          "dash": "solid"
         },
         "marker": {
          "symbol": "circle"
         },
         "mode": "lines",
         "name": "Quantile 3",
         "orientation": "v",
         "showlegend": true,
         "type": "scatter",
         "x": [
          "2013-03-29T00:00:00",
          "2013-06-28T00:00:00",
          "2013-09-30T00:00:00",
          "2013-12-31T00:00:00",
          "2014-03-31T00:00:00",
          "2014-06-30T00:00:00",
          "2014-09-30T00:00:00",
          "2014-12-31T00:00:00",
          "2015-03-31T00:00:00",
          "2015-06-30T00:00:00",
          "2015-09-30T00:00:00",
          "2015-12-31T00:00:00",
          "2016-03-31T00:00:00",
          "2016-06-30T00:00:00",
          "2016-09-30T00:00:00",
          "2016-12-30T00:00:00",
          "2017-03-31T00:00:00",
          "2017-06-30T00:00:00",
          "2017-09-30T00:00:00",
          "2017-12-29T00:00:00",
          "2018-03-31T00:00:00",
          "2018-06-29T00:00:00",
          "2018-09-28T00:00:00",
          "2018-12-28T00:00:00"
         ],
         "xaxis": "x",
         "y": [
          998532.9359999999,
          1137872.0831,
          1080168.0679000001,
          1078342.9752,
          1240780.4875,
          1170047.2702000001,
          1259382.7313,
          1201417.6128,
          1261895.8877,
          1112525.9958,
          1012509.3122,
          947759.1237,
          961873.1673999999,
          887417.6435,
          897103.3766999999,
          907430.7812000001,
          995130.7508,
          959618.7409,
          952801.2993000001,
          997278.5105,
          1098747.9814,
          1100888.7783000001,
          1041786.7751999999,
          984075.3874
         ],
         "yaxis": "y"
        },
        {
         "hovertemplate": "variable=Quantile 4<br>date=%{x}<br>value=%{y}<extra></extra>",
         "legendgroup": "Quantile 4",
         "line": {
          "color": "#ab63fa",
          "dash": "solid"
         },
         "marker": {
          "symbol": "circle"
         },
         "mode": "lines",
         "name": "Quantile 4",
         "orientation": "v",
         "showlegend": true,
         "type": "scatter",
         "x": [
          "2013-03-29T00:00:00",
          "2013-06-28T00:00:00",
          "2013-09-30T00:00:00",
          "2013-12-31T00:00:00",
          "2014-03-31T00:00:00",
          "2014-06-30T00:00:00",
          "2014-09-30T00:00:00",
          "2014-12-31T00:00:00",
          "2015-03-31T00:00:00",
          "2015-06-30T00:00:00",
          "2015-09-30T00:00:00",
          "2015-12-31T00:00:00",
          "2016-03-31T00:00:00",
          "2016-06-30T00:00:00",
          "2016-09-30T00:00:00",
          "2016-12-30T00:00:00",
          "2017-03-31T00:00:00",
          "2017-06-30T00:00:00",
          "2017-09-30T00:00:00",
          "2017-12-29T00:00:00",
          "2018-03-31T00:00:00",
          "2018-06-29T00:00:00",
          "2018-09-28T00:00:00",
          "2018-12-28T00:00:00"
         ],
         "xaxis": "x",
         "y": [
          998547.4036999999,
          1012754.6029,
          1062264.6824999999,
          1010046.279,
          1101845.0668000001,
          1260951.1968,
          1153538.2379,
          1109702.5088000002,
          1115745.5644999999,
          1094663.2126,
          987789.6742,
          985413.1242999999,
          949921.2151,
          913033.832,
          909997.7186000001,
          789053.6715,
          804854.2768,
          775855.0821,
          817467.3391,
          834882.0021,
          803370.6842,
          807235.0346,
          834867.9922000001,
          839127.7407999999
         ],
         "yaxis": "y"
        }
       ],
       "layout": {
        "legend": {
         "title": {
          "text": "variable"
         },
         "tracegroupgap": 0
        },
        "template": {
         "data": {
          "bar": [
           {
            "error_x": {
             "color": "#2a3f5f"
            },
            "error_y": {
             "color": "#2a3f5f"
            },
            "marker": {
             "line": {
              "color": "#E5ECF6",
              "width": 0.5
             },
             "pattern": {
              "fillmode": "overlay",
              "size": 10,
              "solidity": 0.2
             }
            },
            "type": "bar"
           }
          ],
          "barpolar": [
           {
            "marker": {
             "line": {
              "color": "#E5ECF6",
              "width": 0.5
             },
             "pattern": {
              "fillmode": "overlay",
              "size": 10,
              "solidity": 0.2
             }
            },
            "type": "barpolar"
           }
          ],
          "carpet": [
           {
            "aaxis": {
             "endlinecolor": "#2a3f5f",
             "gridcolor": "white",
             "linecolor": "white",
             "minorgridcolor": "white",
             "startlinecolor": "#2a3f5f"
            },
            "baxis": {
             "endlinecolor": "#2a3f5f",
             "gridcolor": "white",
             "linecolor": "white",
             "minorgridcolor": "white",
             "startlinecolor": "#2a3f5f"
            },
            "type": "carpet"
           }
          ],
          "choropleth": [
           {
            "colorbar": {
             "outlinewidth": 0,
             "ticks": ""
            },
            "type": "choropleth"
           }
          ],
          "contour": [
           {
            "colorbar": {
             "outlinewidth": 0,
             "ticks": ""
            },
            "colorscale": [
             [
              0,
              "#0d0887"
             ],
             [
              0.1111111111111111,
              "#46039f"
             ],
             [
              0.2222222222222222,
              "#7201a8"
             ],
             [
              0.3333333333333333,
              "#9c179e"
             ],
             [
              0.4444444444444444,
              "#bd3786"
             ],
             [
              0.5555555555555556,
              "#d8576b"
             ],
             [
              0.6666666666666666,
              "#ed7953"
             ],
             [
              0.7777777777777778,
              "#fb9f3a"
             ],
             [
              0.8888888888888888,
              "#fdca26"
             ],
             [
              1,
              "#f0f921"
             ]
            ],
            "type": "contour"
           }
          ],
          "contourcarpet": [
           {
            "colorbar": {
             "outlinewidth": 0,
             "ticks": ""
            },
            "type": "contourcarpet"
           }
          ],
          "heatmap": [
           {
            "colorbar": {
             "outlinewidth": 0,
             "ticks": ""
            },
            "colorscale": [
             [
              0,
              "#0d0887"
             ],
             [
              0.1111111111111111,
              "#46039f"
             ],
             [
              0.2222222222222222,
              "#7201a8"
             ],
             [
              0.3333333333333333,
              "#9c179e"
             ],
             [
              0.4444444444444444,
              "#bd3786"
             ],
             [
              0.5555555555555556,
              "#d8576b"
             ],
             [
              0.6666666666666666,
              "#ed7953"
             ],
             [
              0.7777777777777778,
              "#fb9f3a"
             ],
             [
              0.8888888888888888,
              "#fdca26"
             ],
             [
              1,
              "#f0f921"
             ]
            ],
            "type": "heatmap"
           }
          ],
          "heatmapgl": [
           {
            "colorbar": {
             "outlinewidth": 0,
             "ticks": ""
            },
            "colorscale": [
             [
              0,
              "#0d0887"
             ],
             [
              0.1111111111111111,
              "#46039f"
             ],
             [
              0.2222222222222222,
              "#7201a8"
             ],
             [
              0.3333333333333333,
              "#9c179e"
             ],
             [
              0.4444444444444444,
              "#bd3786"
             ],
             [
              0.5555555555555556,
              "#d8576b"
             ],
             [
              0.6666666666666666,
              "#ed7953"
             ],
             [
              0.7777777777777778,
              "#fb9f3a"
             ],
             [
              0.8888888888888888,
              "#fdca26"
             ],
             [
              1,
              "#f0f921"
             ]
            ],
            "type": "heatmapgl"
           }
          ],
          "histogram": [
           {
            "marker": {
             "pattern": {
              "fillmode": "overlay",
              "size": 10,
              "solidity": 0.2
             }
            },
            "type": "histogram"
           }
          ],
          "histogram2d": [
           {
            "colorbar": {
             "outlinewidth": 0,
             "ticks": ""
            },
            "colorscale": [
             [
              0,
              "#0d0887"
             ],
             [
              0.1111111111111111,
              "#46039f"
             ],
             [
              0.2222222222222222,
              "#7201a8"
             ],
             [
              0.3333333333333333,
              "#9c179e"
             ],
             [
              0.4444444444444444,
              "#bd3786"
             ],
             [
              0.5555555555555556,
              "#d8576b"
             ],
             [
              0.6666666666666666,
              "#ed7953"
             ],
             [
              0.7777777777777778,
              "#fb9f3a"
             ],
             [
              0.8888888888888888,
              "#fdca26"
             ],
             [
              1,
              "#f0f921"
             ]
            ],
            "type": "histogram2d"
           }
          ],
          "histogram2dcontour": [
           {
            "colorbar": {
             "outlinewidth": 0,
             "ticks": ""
            },
            "colorscale": [
             [
              0,
              "#0d0887"
             ],
             [
              0.1111111111111111,
              "#46039f"
             ],
             [
              0.2222222222222222,
              "#7201a8"
             ],
             [
              0.3333333333333333,
              "#9c179e"
             ],
             [
              0.4444444444444444,
              "#bd3786"
             ],
             [
              0.5555555555555556,
              "#d8576b"
             ],
             [
              0.6666666666666666,
              "#ed7953"
             ],
             [
              0.7777777777777778,
              "#fb9f3a"
             ],
             [
              0.8888888888888888,
              "#fdca26"
             ],
             [
              1,
              "#f0f921"
             ]
            ],
            "type": "histogram2dcontour"
           }
          ],
          "mesh3d": [
           {
            "colorbar": {
             "outlinewidth": 0,
             "ticks": ""
            },
            "type": "mesh3d"
           }
          ],
          "parcoords": [
           {
            "line": {
             "colorbar": {
              "outlinewidth": 0,
              "ticks": ""
             }
            },
            "type": "parcoords"
           }
          ],
          "pie": [
           {
            "automargin": true,
            "type": "pie"
           }
          ],
          "scatter": [
           {
            "fillpattern": {
             "fillmode": "overlay",
             "size": 10,
             "solidity": 0.2
            },
            "type": "scatter"
           }
          ],
          "scatter3d": [
           {
            "line": {
             "colorbar": {
              "outlinewidth": 0,
              "ticks": ""
             }
            },
            "marker": {
             "colorbar": {
              "outlinewidth": 0,
              "ticks": ""
             }
            },
            "type": "scatter3d"
           }
          ],
          "scattercarpet": [
           {
            "marker": {
             "colorbar": {
              "outlinewidth": 0,
              "ticks": ""
             }
            },
            "type": "scattercarpet"
           }
          ],
          "scattergeo": [
           {
            "marker": {
             "colorbar": {
              "outlinewidth": 0,
              "ticks": ""
             }
            },
            "type": "scattergeo"
           }
          ],
          "scattergl": [
           {
            "marker": {
             "colorbar": {
              "outlinewidth": 0,
              "ticks": ""
             }
            },
            "type": "scattergl"
           }
          ],
          "scattermapbox": [
           {
            "marker": {
             "colorbar": {
              "outlinewidth": 0,
              "ticks": ""
             }
            },
            "type": "scattermapbox"
           }
          ],
          "scatterpolar": [
           {
            "marker": {
             "colorbar": {
              "outlinewidth": 0,
              "ticks": ""
             }
            },
            "type": "scatterpolar"
           }
          ],
          "scatterpolargl": [
           {
            "marker": {
             "colorbar": {
              "outlinewidth": 0,
              "ticks": ""
             }
            },
            "type": "scatterpolargl"
           }
          ],
          "scatterternary": [
           {
            "marker": {
             "colorbar": {
              "outlinewidth": 0,
              "ticks": ""
             }
            },
            "type": "scatterternary"
           }
          ],
          "surface": [
           {
            "colorbar": {
             "outlinewidth": 0,
             "ticks": ""
            },
            "colorscale": [
             [
              0,
              "#0d0887"
             ],
             [
              0.1111111111111111,
              "#46039f"
             ],
             [
              0.2222222222222222,
              "#7201a8"
             ],
             [
              0.3333333333333333,
              "#9c179e"
             ],
             [
              0.4444444444444444,
              "#bd3786"
             ],
             [
              0.5555555555555556,
              "#d8576b"
             ],
             [
              0.6666666666666666,
              "#ed7953"
             ],
             [
              0.7777777777777778,
              "#fb9f3a"
             ],
             [
              0.8888888888888888,
              "#fdca26"
             ],
             [
              1,
              "#f0f921"
             ]
            ],
            "type": "surface"
           }
          ],
          "table": [
           {
            "cells": {
             "fill": {
              "color": "#EBF0F8"
             },
             "line": {
              "color": "white"
             }
            },
            "header": {
             "fill": {
              "color": "#C8D4E3"
             },
             "line": {
              "color": "white"
             }
            },
            "type": "table"
           }
          ]
         },
         "layout": {
          "annotationdefaults": {
           "arrowcolor": "#2a3f5f",
           "arrowhead": 0,
           "arrowwidth": 1
          },
          "autotypenumbers": "strict",
          "coloraxis": {
           "colorbar": {
            "outlinewidth": 0,
            "ticks": ""
           }
          },
          "colorscale": {
           "diverging": [
            [
             0,
             "#8e0152"
            ],
            [
             0.1,
             "#c51b7d"
            ],
            [
             0.2,
             "#de77ae"
            ],
            [
             0.3,
             "#f1b6da"
            ],
            [
             0.4,
             "#fde0ef"
            ],
            [
             0.5,
             "#f7f7f7"
            ],
            [
             0.6,
             "#e6f5d0"
            ],
            [
             0.7,
             "#b8e186"
            ],
            [
             0.8,
             "#7fbc41"
            ],
            [
             0.9,
             "#4d9221"
            ],
            [
             1,
             "#276419"
            ]
           ],
           "sequential": [
            [
             0,
             "#0d0887"
            ],
            [
             0.1111111111111111,
             "#46039f"
            ],
            [
             0.2222222222222222,
             "#7201a8"
            ],
            [
             0.3333333333333333,
             "#9c179e"
            ],
            [
             0.4444444444444444,
             "#bd3786"
            ],
            [
             0.5555555555555556,
             "#d8576b"
            ],
            [
             0.6666666666666666,
             "#ed7953"
            ],
            [
             0.7777777777777778,
             "#fb9f3a"
            ],
            [
             0.8888888888888888,
             "#fdca26"
            ],
            [
             1,
             "#f0f921"
            ]
           ],
           "sequentialminus": [
            [
             0,
             "#0d0887"
            ],
            [
             0.1111111111111111,
             "#46039f"
            ],
            [
             0.2222222222222222,
             "#7201a8"
            ],
            [
             0.3333333333333333,
             "#9c179e"
            ],
            [
             0.4444444444444444,
             "#bd3786"
            ],
            [
             0.5555555555555556,
             "#d8576b"
            ],
            [
             0.6666666666666666,
             "#ed7953"
            ],
            [
             0.7777777777777778,
             "#fb9f3a"
            ],
            [
             0.8888888888888888,
             "#fdca26"
            ],
            [
             1,
             "#f0f921"
            ]
           ]
          },
          "colorway": [
           "#636efa",
           "#EF553B",
           "#00cc96",
           "#ab63fa",
           "#FFA15A",
           "#19d3f3",
           "#FF6692",
           "#B6E880",
           "#FF97FF",
           "#FECB52"
          ],
          "font": {
           "color": "#2a3f5f"
          },
          "geo": {
           "bgcolor": "white",
           "lakecolor": "white",
           "landcolor": "#E5ECF6",
           "showlakes": true,
           "showland": true,
           "subunitcolor": "white"
          },
          "hoverlabel": {
           "align": "left"
          },
          "hovermode": "closest",
          "mapbox": {
           "style": "light"
          },
          "paper_bgcolor": "white",
          "plot_bgcolor": "#E5ECF6",
          "polar": {
           "angularaxis": {
            "gridcolor": "white",
            "linecolor": "white",
            "ticks": ""
           },
           "bgcolor": "#E5ECF6",
           "radialaxis": {
            "gridcolor": "white",
            "linecolor": "white",
            "ticks": ""
           }
          },
          "scene": {
           "xaxis": {
            "backgroundcolor": "#E5ECF6",
            "gridcolor": "white",
            "gridwidth": 2,
            "linecolor": "white",
            "showbackground": true,
            "ticks": "",
            "zerolinecolor": "white"
           },
           "yaxis": {
            "backgroundcolor": "#E5ECF6",
            "gridcolor": "white",
            "gridwidth": 2,
            "linecolor": "white",
            "showbackground": true,
            "ticks": "",
            "zerolinecolor": "white"
           },
           "zaxis": {
            "backgroundcolor": "#E5ECF6",
            "gridcolor": "white",
            "gridwidth": 2,
            "linecolor": "white",
            "showbackground": true,
            "ticks": "",
            "zerolinecolor": "white"
           }
          },
          "shapedefaults": {
           "line": {
            "color": "#2a3f5f"
           }
          },
          "ternary": {
           "aaxis": {
            "gridcolor": "white",
            "linecolor": "white",
            "ticks": ""
           },
           "baxis": {
            "gridcolor": "white",
            "linecolor": "white",
            "ticks": ""
           },
           "bgcolor": "#E5ECF6",
           "caxis": {
            "gridcolor": "white",
            "linecolor": "white",
            "ticks": ""
           }
          },
          "title": {
           "x": 0.05
          },
          "xaxis": {
           "automargin": true,
           "gridcolor": "white",
           "linecolor": "white",
           "ticks": "",
           "title": {
            "standoff": 15
           },
           "zerolinecolor": "white",
           "zerolinewidth": 2
          },
          "yaxis": {
           "automargin": true,
           "gridcolor": "white",
           "linecolor": "white",
           "ticks": "",
           "title": {
            "standoff": 15
           },
           "zerolinecolor": "white",
           "zerolinewidth": 2
          }
         }
        },
        "title": {
         "text": "portfolio_value折線圖"
        },
        "xaxis": {
         "anchor": "y",
         "domain": [
          0,
          1
         ],
         "title": {
          "text": "date"
         }
        },
        "yaxis": {
         "anchor": "x",
         "domain": [
          0,
          1
         ],
         "title": {
          "text": "value"
         }
        }
       }
      }
     },
     "metadata": {},
     "output_type": "display_data"
    },
    {
     "name": "stdout",
     "output_type": "stream",
     "text": [
      "因子:  EPS\n",
      "              Quantile 1    Quantile 2    Quantile 3    Quantile 4\n",
      "date                                                              \n",
      "2013-03-29  9.984989e+05  9.985035e+05  9.985384e+05  9.985525e+05\n",
      "2013-06-28  1.038748e+06  1.082300e+06  1.158899e+06  9.936953e+05\n",
      "2013-09-30  1.372056e+06  1.272878e+06  1.168202e+06  1.003491e+06\n",
      "2013-12-31  1.539616e+06  1.373789e+06  1.153890e+06  9.408378e+05\n",
      "2014-03-31  1.979516e+06  1.506233e+06  1.332781e+06  1.028573e+06\n",
      "2014-06-30  2.266858e+06  1.398683e+06  1.244389e+06  1.192340e+06\n",
      "2014-09-30  2.300934e+06  1.349925e+06  1.158983e+06  1.085534e+06\n",
      "2014-12-31  2.186097e+06  1.327028e+06  1.152561e+06  1.067617e+06\n",
      "2015-03-31  2.515262e+06  1.412288e+06  1.210764e+06  1.083620e+06\n",
      "2015-06-30  2.119954e+06  1.333200e+06  1.158236e+06  1.030926e+06\n",
      "2015-09-30  2.213468e+06  1.254089e+06  1.015146e+06  9.301557e+05\n",
      "2015-12-31  2.375373e+06  1.335240e+06  9.482916e+05  9.385907e+05\n",
      "2016-03-31  2.483398e+06  1.320298e+06  9.434974e+05  9.061137e+05\n",
      "2016-06-30  2.521470e+06  1.288040e+06  8.702713e+05  8.702089e+05\n",
      "2016-09-30  2.536812e+06  1.326201e+06  8.606498e+05  8.744868e+05\n",
      "2016-12-30  2.632802e+06  1.383650e+06  8.512719e+05  7.589218e+05\n",
      "2017-03-31  2.627006e+06  1.379026e+06  9.013156e+05  7.829523e+05\n",
      "2017-06-30  2.895316e+06  1.402236e+06  8.658489e+05  7.542840e+05\n",
      "2017-09-30  3.168510e+06  1.501366e+06  8.742915e+05  9.899285e+05\n",
      "2017-12-29  3.315418e+06  1.424674e+06  9.774666e+05  9.472623e+05\n",
      "2018-03-31  3.682583e+06  1.562626e+06  1.078826e+06  9.128064e+05\n",
      "2018-06-29  3.921688e+06  1.491642e+06  1.110535e+06  9.353203e+05\n",
      "2018-09-28  3.731557e+06  1.564597e+06  1.047531e+06  9.441537e+05\n",
      "2018-12-28  3.333616e+06  1.569323e+06  1.035337e+06  9.437536e+05\n",
      "因子:  ROE\n",
      "              Quantile 1    Quantile 2    Quantile 3    Quantile 4\n",
      "date                                                              \n",
      "2013-03-29  9.984966e+05  9.985163e+05  9.985329e+05  9.985474e+05\n",
      "2013-06-28  1.163161e+06  9.609004e+05  1.137872e+06  1.012755e+06\n",
      "2013-09-30  1.535134e+06  1.146728e+06  1.080168e+06  1.062265e+06\n",
      "2013-12-31  1.735242e+06  1.185584e+06  1.078343e+06  1.010046e+06\n",
      "2014-03-31  2.048688e+06  1.437594e+06  1.240780e+06  1.101845e+06\n",
      "2014-06-30  2.286360e+06  1.360355e+06  1.170047e+06  1.260951e+06\n",
      "2014-09-30  2.159404e+06  1.250807e+06  1.259383e+06  1.153538e+06\n",
      "2014-12-31  2.124086e+06  1.262093e+06  1.201418e+06  1.109703e+06\n",
      "2015-03-31  2.402197e+06  1.357856e+06  1.261896e+06  1.115746e+06\n",
      "2015-06-30  2.104295e+06  1.273626e+06  1.112526e+06  1.094663e+06\n",
      "2015-09-30  2.235596e+06  1.123996e+06  1.012509e+06  9.877897e+05\n",
      "2015-12-31  2.479981e+06  1.173001e+06  9.477591e+05  9.854131e+05\n",
      "2016-03-31  2.577802e+06  1.138596e+06  9.618732e+05  9.499212e+05\n",
      "2016-06-30  2.577726e+06  1.120841e+06  8.874176e+05  9.130338e+05\n",
      "2016-09-30  2.574893e+06  1.159393e+06  8.971034e+05  9.099977e+05\n",
      "2016-12-30  2.536958e+06  1.246404e+06  9.074308e+05  7.890537e+05\n",
      "2017-03-31  2.509267e+06  1.242287e+06  9.951308e+05  8.048543e+05\n",
      "2017-06-30  2.624988e+06  1.338964e+06  9.596187e+05  7.758551e+05\n",
      "2017-09-30  3.467403e+06  1.526981e+06  9.528013e+05  8.174673e+05\n",
      "2017-12-29  3.554429e+06  1.492728e+06  9.972785e+05  8.348820e+05\n",
      "2018-03-31  3.945720e+06  1.646978e+06  1.098748e+06  8.033707e+05\n",
      "2018-06-29  4.033831e+06  1.626411e+06  1.100889e+06  8.072350e+05\n",
      "2018-09-28  3.815377e+06  1.715674e+06  1.041787e+06  8.348680e+05\n",
      "2018-12-28  3.471677e+06  1.653463e+06  9.840754e+05  8.391277e+05\n"
     ]
    }
   ],
   "source": [
    "\n",
    "# 畫圖\n",
    "plotter.plot(all_result_dict,index=\"portfolio_returns\",N=0)\n",
    "# 畫圖\n",
    "plotter.plot(all_result_dict,index=\"portfolio_value\",N=1)\n",
    "# 列出DataFrame\n",
    "plotter.table(all_result_dict,index=\"portfolio_value\")"
   ]
  },
  {
   "cell_type": "code",
   "execution_count": 1,
   "metadata": {},
   "outputs": [],
   "source": [
    "import talib"
   ]
  },
  {
   "cell_type": "code",
   "execution_count": 2,
   "metadata": {},
   "outputs": [
    {
     "name": "stdout",
     "output_type": "stream",
     "text": [
      "0.4.24\n"
     ]
    }
   ],
   "source": [
    "print(talib.__version__)\n"
   ]
  }
 ],
 "metadata": {
  "kernelspec": {
   "display_name": "Python 3",
   "language": "python",
   "name": "python3"
  },
  "language_info": {
   "codemirror_mode": {
    "name": "ipython",
    "version": 3
   },
   "file_extension": ".py",
   "mimetype": "text/x-python",
   "name": "python",
   "nbconvert_exporter": "python",
   "pygments_lexer": "ipython3",
   "version": "3.8.18"
  },
  "orig_nbformat": 4
 },
 "nbformat": 4,
 "nbformat_minor": 2
}
