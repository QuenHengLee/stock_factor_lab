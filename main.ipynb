{
 "cells": [
  {
   "cell_type": "markdown",
   "metadata": {},
   "source": [
    "import 程式庫\n"
   ]
  },
  {
   "cell_type": "code",
   "execution_count": 1,
   "metadata": {},
   "outputs": [],
   "source": [
    "from database import Database\n",
    "from get_data import Data\n",
    "from seperate_company import SeperateCompany\n",
    "from plot import Plot\n",
    "from backtest import Backtest\n",
    "\n",
    "import pandas as pd\n",
    "import numpy as np\n",
    "import matplotlib.pyplot as plt\n",
    "import seaborn as sns\n",
    "import matplotlib.pyplot as plt\n",
    "import plotly.express as px"
   ]
  },
  {
   "cell_type": "code",
   "execution_count": 2,
   "metadata": {},
   "outputs": [],
   "source": [
    "# 建立取得資料物件\n",
    "data = Data()\n",
    "# 建立資料分割物件\n",
    "seperate_company = SeperateCompany()\n",
    "# 建立畫圖物件\n",
    "plotter = Plot()"
   ]
  },
  {
   "cell_type": "code",
   "execution_count": 3,
   "metadata": {},
   "outputs": [
    {
     "name": "stdout",
     "output_type": "stream",
     "text": [
      "DataFrame for factor_name EPS:\n",
      "\n",
      "DataFrame for factor_name ROE:\n",
      "\n",
      "DataFrame for factor_name PB:\n",
      "\n",
      "DataFrame for factor_name PS:\n",
      "\n",
      "DataFrame for factor_name PE:\n",
      "\n"
     ]
    }
   ],
   "source": [
    "# 測試輸出財報資料    \n",
    "factor_dict = data.get('report:EPS,ROE,PB,PS,PE')"
   ]
  },
  {
   "cell_type": "code",
   "execution_count": 4,
   "metadata": {},
   "outputs": [
    {
     "name": "stderr",
     "output_type": "stream",
     "text": [
      "c:\\Users\\heats\\anaconda3\\envs\\FakeLab\\lib\\site-packages\\pandas\\core\\arraylike.py:396: RuntimeWarning: divide by zero encountered in log\n",
      "  result = getattr(ufunc, method)(*inputs, **kwargs)\n",
      "c:\\Users\\heats\\anaconda3\\envs\\FakeLab\\lib\\site-packages\\pandas\\core\\arraylike.py:396: RuntimeWarning: divide by zero encountered in log\n",
      "  result = getattr(ufunc, method)(*inputs, **kwargs)\n",
      "c:\\Users\\heats\\anaconda3\\envs\\FakeLab\\lib\\site-packages\\pandas\\core\\arraylike.py:396: RuntimeWarning: divide by zero encountered in log\n",
      "  result = getattr(ufunc, method)(*inputs, **kwargs)\n",
      "c:\\Users\\heats\\anaconda3\\envs\\FakeLab\\lib\\site-packages\\pandas\\core\\arraylike.py:396: RuntimeWarning: divide by zero encountered in log\n",
      "  result = getattr(ufunc, method)(*inputs, **kwargs)\n",
      "c:\\Users\\heats\\anaconda3\\envs\\FakeLab\\lib\\site-packages\\pandas\\core\\arraylike.py:396: RuntimeWarning: divide by zero encountered in log\n",
      "  result = getattr(ufunc, method)(*inputs, **kwargs)\n",
      "c:\\Users\\heats\\anaconda3\\envs\\FakeLab\\lib\\site-packages\\pandas\\core\\arraylike.py:396: RuntimeWarning: divide by zero encountered in log\n",
      "  result = getattr(ufunc, method)(*inputs, **kwargs)\n",
      "c:\\Users\\heats\\anaconda3\\envs\\FakeLab\\lib\\site-packages\\pandas\\core\\arraylike.py:396: RuntimeWarning: divide by zero encountered in log\n",
      "  result = getattr(ufunc, method)(*inputs, **kwargs)\n",
      "c:\\Users\\heats\\anaconda3\\envs\\FakeLab\\lib\\site-packages\\pandas\\core\\arraylike.py:396: RuntimeWarning: divide by zero encountered in log\n",
      "  result = getattr(ufunc, method)(*inputs, **kwargs)\n",
      "c:\\Users\\heats\\anaconda3\\envs\\FakeLab\\lib\\site-packages\\pandas\\core\\arraylike.py:396: RuntimeWarning: divide by zero encountered in log\n",
      "  result = getattr(ufunc, method)(*inputs, **kwargs)\n",
      "c:\\Users\\heats\\anaconda3\\envs\\FakeLab\\lib\\site-packages\\pandas\\core\\arraylike.py:396: RuntimeWarning: divide by zero encountered in log\n",
      "  result = getattr(ufunc, method)(*inputs, **kwargs)\n",
      "c:\\Users\\heats\\anaconda3\\envs\\FakeLab\\lib\\site-packages\\pandas\\core\\arraylike.py:396: RuntimeWarning: divide by zero encountered in log\n",
      "  result = getattr(ufunc, method)(*inputs, **kwargs)\n",
      "c:\\Users\\heats\\anaconda3\\envs\\FakeLab\\lib\\site-packages\\pandas\\core\\arraylike.py:396: RuntimeWarning: divide by zero encountered in log\n",
      "  result = getattr(ufunc, method)(*inputs, **kwargs)\n",
      "c:\\Users\\heats\\anaconda3\\envs\\FakeLab\\lib\\site-packages\\pandas\\core\\arraylike.py:396: RuntimeWarning: divide by zero encountered in log\n",
      "  result = getattr(ufunc, method)(*inputs, **kwargs)\n",
      "c:\\Users\\heats\\anaconda3\\envs\\FakeLab\\lib\\site-packages\\pandas\\core\\arraylike.py:396: RuntimeWarning: divide by zero encountered in log\n",
      "  result = getattr(ufunc, method)(*inputs, **kwargs)\n",
      "c:\\Users\\heats\\anaconda3\\envs\\FakeLab\\lib\\site-packages\\pandas\\core\\arraylike.py:396: RuntimeWarning: divide by zero encountered in log\n",
      "  result = getattr(ufunc, method)(*inputs, **kwargs)\n",
      "c:\\Users\\heats\\anaconda3\\envs\\FakeLab\\lib\\site-packages\\pandas\\core\\arraylike.py:396: RuntimeWarning: divide by zero encountered in log\n",
      "  result = getattr(ufunc, method)(*inputs, **kwargs)\n",
      "c:\\Users\\heats\\anaconda3\\envs\\FakeLab\\lib\\site-packages\\pandas\\core\\arraylike.py:396: RuntimeWarning: divide by zero encountered in log\n",
      "  result = getattr(ufunc, method)(*inputs, **kwargs)\n",
      "c:\\Users\\heats\\anaconda3\\envs\\FakeLab\\lib\\site-packages\\pandas\\core\\arraylike.py:396: RuntimeWarning: divide by zero encountered in log\n",
      "  result = getattr(ufunc, method)(*inputs, **kwargs)\n",
      "c:\\Users\\heats\\anaconda3\\envs\\FakeLab\\lib\\site-packages\\pandas\\core\\arraylike.py:396: RuntimeWarning: divide by zero encountered in log\n",
      "  result = getattr(ufunc, method)(*inputs, **kwargs)\n"
     ]
    }
   ],
   "source": [
    "# 根據隨入的因子，將公司分成quantile組\n",
    "# 回測所有quantile\n",
    "all_result_dict = seperate_company.backtest_all_quantile(factor_dict,quantile=4)"
   ]
  },
  {
   "cell_type": "code",
   "execution_count": 5,
   "metadata": {},
   "outputs": [
    {
     "name": "stdout",
     "output_type": "stream",
     "text": [
      "因子:  EPS\n"
     ]
    },
    {
     "ename": "NameError",
     "evalue": "name 'n' is not defined",
     "output_type": "error",
     "traceback": [
      "\u001b[1;31m---------------------------------------------------------------------------\u001b[0m",
      "\u001b[1;31mNameError\u001b[0m                                 Traceback (most recent call last)",
      "\u001b[1;32md:\\雲端硬碟(同步)\\OneDrive - 國立中央大學\\許智誠Lab\\因子分析回測系統\\stock_factor_lab\\main.ipynb 儲存格 6\u001b[0m line \u001b[0;36m6\n\u001b[0;32m      <a href='vscode-notebook-cell:/d%3A/%E9%9B%B2%E7%AB%AF%E7%A1%AC%E7%A2%9F%28%E5%90%8C%E6%AD%A5%29/OneDrive%20-%20%E5%9C%8B%E7%AB%8B%E4%B8%AD%E5%A4%AE%E5%A4%A7%E5%AD%B8/%E8%A8%B1%E6%99%BA%E8%AA%A0Lab/%E5%9B%A0%E5%AD%90%E5%88%86%E6%9E%90%E5%9B%9E%E6%B8%AC%E7%B3%BB%E7%B5%B1/stock_factor_lab/main.ipynb#W5sZmlsZQ%3D%3D?line=3'>4</a>\u001b[0m \u001b[39mprint\u001b[39m(\u001b[39m\"\u001b[39m\u001b[39m因子: \u001b[39m\u001b[39m\"\u001b[39m,factor)\n\u001b[0;32m      <a href='vscode-notebook-cell:/d%3A/%E9%9B%B2%E7%AB%AF%E7%A1%AC%E7%A2%9F%28%E5%90%8C%E6%AD%A5%29/OneDrive%20-%20%E5%9C%8B%E7%AB%8B%E4%B8%AD%E5%A4%AE%E5%A4%A7%E5%AD%B8/%E8%A8%B1%E6%99%BA%E8%AA%A0Lab/%E5%9B%A0%E5%AD%90%E5%88%86%E6%9E%90%E5%9B%9E%E6%B8%AC%E7%B3%BB%E7%B5%B1/stock_factor_lab/main.ipynb#W5sZmlsZQ%3D%3D?line=4'>5</a>\u001b[0m \u001b[39m# 畫圖\u001b[39;00m\n\u001b[1;32m----> <a href='vscode-notebook-cell:/d%3A/%E9%9B%B2%E7%AB%AF%E7%A1%AC%E7%A2%9F%28%E5%90%8C%E6%AD%A5%29/OneDrive%20-%20%E5%9C%8B%E7%AB%8B%E4%B8%AD%E5%A4%AE%E5%A4%A7%E5%AD%B8/%E8%A8%B1%E6%99%BA%E8%AA%A0Lab/%E5%9B%A0%E5%AD%90%E5%88%86%E6%9E%90%E5%9B%9E%E6%B8%AC%E7%B3%BB%E7%B5%B1/stock_factor_lab/main.ipynb#W5sZmlsZQ%3D%3D?line=5'>6</a>\u001b[0m plotter\u001b[39m.\u001b[39;49mplot(output,index\u001b[39m=\u001b[39;49m\u001b[39m\"\u001b[39;49m\u001b[39mportfolio_returns\u001b[39;49m\u001b[39m\"\u001b[39;49m)\n\u001b[0;32m      <a href='vscode-notebook-cell:/d%3A/%E9%9B%B2%E7%AB%AF%E7%A1%AC%E7%A2%9F%28%E5%90%8C%E6%AD%A5%29/OneDrive%20-%20%E5%9C%8B%E7%AB%8B%E4%B8%AD%E5%A4%AE%E5%A4%A7%E5%AD%B8/%E8%A8%B1%E6%99%BA%E8%AA%A0Lab/%E5%9B%A0%E5%AD%90%E5%88%86%E6%9E%90%E5%9B%9E%E6%B8%AC%E7%B3%BB%E7%B5%B1/stock_factor_lab/main.ipynb#W5sZmlsZQ%3D%3D?line=6'>7</a>\u001b[0m \u001b[39m# 畫圖\u001b[39;00m\n\u001b[0;32m      <a href='vscode-notebook-cell:/d%3A/%E9%9B%B2%E7%AB%AF%E7%A1%AC%E7%A2%9F%28%E5%90%8C%E6%AD%A5%29/OneDrive%20-%20%E5%9C%8B%E7%AB%8B%E4%B8%AD%E5%A4%AE%E5%A4%A7%E5%AD%B8/%E8%A8%B1%E6%99%BA%E8%AA%A0Lab/%E5%9B%A0%E5%AD%90%E5%88%86%E6%9E%90%E5%9B%9E%E6%B8%AC%E7%B3%BB%E7%B5%B1/stock_factor_lab/main.ipynb#W5sZmlsZQ%3D%3D?line=7'>8</a>\u001b[0m plotter\u001b[39m.\u001b[39mplot(output,index\u001b[39m=\u001b[39m\u001b[39m\"\u001b[39m\u001b[39mportfolio_value\u001b[39m\u001b[39m\"\u001b[39m)\n",
      "File \u001b[1;32md:\\雲端硬碟(同步)\\OneDrive - 國立中央大學\\許智誠Lab\\因子分析回測系統\\stock_factor_lab\\plot.py:22\u001b[0m, in \u001b[0;36mPlot.plot\u001b[1;34m(self, backtest_result, index, N)\u001b[0m\n\u001b[0;32m     20\u001b[0m series_list \u001b[39m=\u001b[39m []\n\u001b[0;32m     21\u001b[0m size \u001b[39m=\u001b[39m \u001b[39mlen\u001b[39m(backtest_result)\n\u001b[1;32m---> 22\u001b[0m \u001b[39mif\u001b[39;00m n \u001b[39m==\u001b[39m \u001b[39m0\u001b[39m:\n\u001b[0;32m     23\u001b[0m     backtest_result \u001b[39m=\u001b[39m backtest_result\n\u001b[0;32m     24\u001b[0m \u001b[39melse\u001b[39;00m:\n",
      "\u001b[1;31mNameError\u001b[0m: name 'n' is not defined"
     ]
    }
   ],
   "source": [
    "for factor in all_result_dict:\n",
    "    # print(all_result_dict[f])\n",
    "    output = all_result_dict[factor]\n",
    "    print(\"因子: \",factor)\n",
    "    # 畫圖\n",
    "    plotter.plot(output,index=\"portfolio_returns\",N=0)\n",
    "    # 畫圖\n",
    "    plotter.plot(output,index=\"portfolio_value\",N=1)\n",
    "    # 列出DataFrame\n",
    "    plotter.table(output,index=\"portfolio_value\")"
   ]
  }
 ],
 "metadata": {
  "kernelspec": {
   "display_name": "Python 3",
   "language": "python",
   "name": "python3"
  },
  "language_info": {
   "codemirror_mode": {
    "name": "ipython",
    "version": 3
   },
   "file_extension": ".py",
   "mimetype": "text/x-python",
   "name": "python",
   "nbconvert_exporter": "python",
   "pygments_lexer": "ipython3",
   "version": "3.8.17"
  },
  "orig_nbformat": 4
 },
 "nbformat": 4,
 "nbformat_minor": 2
}
