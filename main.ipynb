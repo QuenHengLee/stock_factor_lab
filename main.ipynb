{
 "cells": [
  {
   "cell_type": "markdown",
   "metadata": {},
   "source": [
    "import 程式庫\n"
   ]
  },
  {
   "cell_type": "code",
   "execution_count": 1,
   "metadata": {},
   "outputs": [
    {
     "ename": "ImportError",
     "evalue": "cannot import name 'SeperateCompany' from 'seperate_company' (c:\\OneDrive\\OneDrive - 國立中央大學\\許智誠Lab\\因子分析回測系統\\stock_factor_lab\\seperate_company.py)",
     "output_type": "error",
     "traceback": [
      "\u001b[1;31m---------------------------------------------------------------------------\u001b[0m",
      "\u001b[1;31mImportError\u001b[0m                               Traceback (most recent call last)",
      "\u001b[1;32mc:\\OneDrive\\OneDrive - 國立中央大學\\許智誠Lab\\因子分析回測系統\\stock_factor_lab\\main.ipynb 儲存格 2\u001b[0m line \u001b[0;36m3\n\u001b[0;32m      <a href='vscode-notebook-cell:/c%3A/OneDrive/OneDrive%20-%20%E5%9C%8B%E7%AB%8B%E4%B8%AD%E5%A4%AE%E5%A4%A7%E5%AD%B8/%E8%A8%B1%E6%99%BA%E8%AA%A0Lab/%E5%9B%A0%E5%AD%90%E5%88%86%E6%9E%90%E5%9B%9E%E6%B8%AC%E7%B3%BB%E7%B5%B1/stock_factor_lab/main.ipynb#W1sZmlsZQ%3D%3D?line=0'>1</a>\u001b[0m \u001b[39mfrom\u001b[39;00m \u001b[39mdatabase\u001b[39;00m \u001b[39mimport\u001b[39;00m Database\n\u001b[0;32m      <a href='vscode-notebook-cell:/c%3A/OneDrive/OneDrive%20-%20%E5%9C%8B%E7%AB%8B%E4%B8%AD%E5%A4%AE%E5%A4%A7%E5%AD%B8/%E8%A8%B1%E6%99%BA%E8%AA%A0Lab/%E5%9B%A0%E5%AD%90%E5%88%86%E6%9E%90%E5%9B%9E%E6%B8%AC%E7%B3%BB%E7%B5%B1/stock_factor_lab/main.ipynb#W1sZmlsZQ%3D%3D?line=1'>2</a>\u001b[0m \u001b[39mfrom\u001b[39;00m \u001b[39mget_data\u001b[39;00m \u001b[39mimport\u001b[39;00m Data\n\u001b[1;32m----> <a href='vscode-notebook-cell:/c%3A/OneDrive/OneDrive%20-%20%E5%9C%8B%E7%AB%8B%E4%B8%AD%E5%A4%AE%E5%A4%A7%E5%AD%B8/%E8%A8%B1%E6%99%BA%E8%AA%A0Lab/%E5%9B%A0%E5%AD%90%E5%88%86%E6%9E%90%E5%9B%9E%E6%B8%AC%E7%B3%BB%E7%B5%B1/stock_factor_lab/main.ipynb#W1sZmlsZQ%3D%3D?line=2'>3</a>\u001b[0m \u001b[39mfrom\u001b[39;00m \u001b[39mseperate_company\u001b[39;00m \u001b[39mimport\u001b[39;00m SeperateCompany\n\u001b[0;32m      <a href='vscode-notebook-cell:/c%3A/OneDrive/OneDrive%20-%20%E5%9C%8B%E7%AB%8B%E4%B8%AD%E5%A4%AE%E5%A4%A7%E5%AD%B8/%E8%A8%B1%E6%99%BA%E8%AA%A0Lab/%E5%9B%A0%E5%AD%90%E5%88%86%E6%9E%90%E5%9B%9E%E6%B8%AC%E7%B3%BB%E7%B5%B1/stock_factor_lab/main.ipynb#W1sZmlsZQ%3D%3D?line=3'>4</a>\u001b[0m \u001b[39mfrom\u001b[39;00m \u001b[39mplot\u001b[39;00m \u001b[39mimport\u001b[39;00m Plot\n\u001b[0;32m      <a href='vscode-notebook-cell:/c%3A/OneDrive/OneDrive%20-%20%E5%9C%8B%E7%AB%8B%E4%B8%AD%E5%A4%AE%E5%A4%A7%E5%AD%B8/%E8%A8%B1%E6%99%BA%E8%AA%A0Lab/%E5%9B%A0%E5%AD%90%E5%88%86%E6%9E%90%E5%9B%9E%E6%B8%AC%E7%B3%BB%E7%B5%B1/stock_factor_lab/main.ipynb#W1sZmlsZQ%3D%3D?line=4'>5</a>\u001b[0m \u001b[39mfrom\u001b[39;00m \u001b[39mbacktest\u001b[39;00m \u001b[39mimport\u001b[39;00m \u001b[39m*\u001b[39m\n",
      "\u001b[1;31mImportError\u001b[0m: cannot import name 'SeperateCompany' from 'seperate_company' (c:\\OneDrive\\OneDrive - 國立中央大學\\許智誠Lab\\因子分析回測系統\\stock_factor_lab\\seperate_company.py)"
     ]
    }
   ],
   "source": [
    "from database import Database\n",
    "from get_data import Data\n",
    "from seperate_company import SeperateCompany\n",
    "from plot import Plot\n",
    "from backtest import *\n",
    "from datetime import datetime\n",
    "from combinations import sim_conditions\n",
    "from report import Report\n",
    "import pandas as pd\n",
    "import numpy as np\n",
    "import matplotlib.pyplot as plt\n",
    "import seaborn as sns\n",
    "import matplotlib.pyplot as plt\n",
    "import plotly.express as px\n",
    "from dataframe import CustomDataFrame"
   ]
  },
  {
   "cell_type": "code",
   "execution_count": null,
   "metadata": {},
   "outputs": [],
   "source": []
  },
  {
   "cell_type": "code",
   "execution_count": null,
   "metadata": {},
   "outputs": [],
   "source": [
    "# 建立取得資料物件\n",
    "data = Data()\n",
    "# 建立資料分割物件\n",
    "seperate_company = SeperateCompany()\n",
    "# 建立畫圖物件\n",
    "plotter = Plot()"
   ]
  },
  {
   "cell_type": "code",
   "execution_count": null,
   "metadata": {},
   "outputs": [],
   "source": [
    "# 取得收盤價資料(回測用)\n",
    "close = data.get(\"price:close\")\n",
    "# 取得RSI指標資料(進出場策略用)\n",
    "rsi = data.indicator(\"rsi\")\n",
    "# 取得ROE財報資料(因子分析/進出場策略用)\n",
    "roe = data.get(\"report:roe\")\n",
    "pb = data.get(\"report:pb\")"
   ]
  },
  {
   "cell_type": "code",
   "execution_count": null,
   "metadata": {},
   "outputs": [],
   "source": [
    "# 利用ROE因子將公司切分成四等分(因子分析)\n",
    "roe_1, roe_2, roe_3, roe_4 = roe.divide_slice(quantile=4, ascending=False)"
   ]
  },
  {
   "cell_type": "code",
   "execution_count": null,
   "metadata": {},
   "outputs": [],
   "source": [
    "# # 利用PB因子將公司切分成四等分(因子分析)\n",
    "# pb_1, pb_2, pb_3, pb_4 = pd.divide_slice(quantile=4, ascending=True)"
   ]
  },
  {
   "cell_type": "code",
   "execution_count": null,
   "metadata": {},
   "outputs": [],
   "source": [
    "# 進行遮罩  5 MASK TRUE = 5,  3 MASK FALSE = NAN\n",
    "# 雙因子會用到\n",
    "def MASK(df_bool, df_numeric):\n",
    "    # 使用np.where進行遮罩操作\n",
    "    result = np.where(df_bool, df_numeric, np.nan)\n",
    "\n",
    "    # 將結果添加到新的DataFrame中\n",
    "    result_df = pd.DataFrame(result, columns=df_numeric.columns)\n",
    "\n",
    "    return CustomDataFrame(result_df)"
   ]
  },
  {
   "cell_type": "code",
   "execution_count": null,
   "metadata": {},
   "outputs": [],
   "source": [
    "# Achieving Alpha 雙因子概念實作\n",
    "# 以抓出Quantile_1為例：\n",
    "roe_1_mask_pb = MASK(roe_1, pb)\n",
    "# 抓出Quantile_4\n",
    "roe_4_mask_pb = MASK(roe_4, pb)"
   ]
  },
  {
   "cell_type": "code",
   "execution_count": null,
   "metadata": {},
   "outputs": [],
   "source": [
    "# 在用第二個因子PB來切成四等份(roe1)\n",
    "quantile_roe1_pb1, quantile_roe1_pb2, quantile_roe1_pb3, quantile_roe1_pb4= roe_1_mask_pb.divide_slice(quantile=4, ascending=True)\n",
    "# 在用第二個因子PB來切成四等份(roe4)\n",
    "quantile_roe4_pb1, quantile_roe4_pb2, quantile_roe4_pb3, quantile_roe4_pb4= roe_4_mask_pb.divide_slice(quantile=4, ascending=True)"
   ]
  },
  {
   "cell_type": "code",
   "execution_count": null,
   "metadata": {},
   "outputs": [],
   "source": [
    "# 設定進場的條件\n",
    "cond_1 = rsi.is_largest(5)\n",
    "cond_2 = close > close.average(20)\n",
    "# 進場條件做AND運算\n",
    "cond = cond_1 & cond_2"
   ]
  },
  {
   "cell_type": "code",
   "execution_count": 7,
   "metadata": {},
   "outputs": [],
   "source": [
    "tmp = {'a1':1,'b1':2}"
   ]
  },
  {
   "cell_type": "code",
   "execution_count": 9,
   "metadata": {},
   "outputs": [
    {
     "data": {
      "text/plain": [
       "1"
      ]
     },
     "execution_count": 9,
     "metadata": {},
     "output_type": "execute_result"
    }
   ],
   "source": [
    "tmp['a1']"
   ]
  },
  {
   "cell_type": "code",
   "execution_count": 12,
   "metadata": {},
   "outputs": [
    {
     "data": {
      "text/plain": [
       "1"
      ]
     },
     "execution_count": 12,
     "metadata": {},
     "output_type": "execute_result"
    }
   ],
   "source": [
    "k = 'a'\n",
    "tmp[k+'1']"
   ]
  },
  {
   "cell_type": "code",
   "execution_count": null,
   "metadata": {},
   "outputs": [],
   "source": [
    "# 雙因子的Q1、Q4 --> position\n",
    "postion_1 = quantile_roe1_pb1 & cond\n",
    "postion_4 = quantile_roe4_pb4 & cond"
   ]
  },
  {
   "cell_type": "code",
   "execution_count": 16,
   "metadata": {},
   "outputs": [],
   "source": [
    "i = 3"
   ]
  },
  {
   "cell_type": "code",
   "execution_count": 17,
   "metadata": {},
   "outputs": [
    {
     "ename": "TypeError",
     "evalue": "can only concatenate str (not \"int\") to str",
     "output_type": "error",
     "traceback": [
      "\u001b[1;31m---------------------------------------------------------------------------\u001b[0m",
      "\u001b[1;31mTypeError\u001b[0m                                 Traceback (most recent call last)",
      "\u001b[1;32md:\\雲端硬碟(同步)\\OneDrive - 國立中央大學\\許智誠Lab\\因子分析回測系統\\stock_factor_lab\\main.ipynb 儲存格 17\u001b[0m line \u001b[0;36m1\n\u001b[1;32m----> <a href='vscode-notebook-cell:/d%3A/%E9%9B%B2%E7%AB%AF%E7%A1%AC%E7%A2%9F%28%E5%90%8C%E6%AD%A5%29/OneDrive%20-%20%E5%9C%8B%E7%AB%8B%E4%B8%AD%E5%A4%AE%E5%A4%A7%E5%AD%B8/%E8%A8%B1%E6%99%BA%E8%AA%A0Lab/%E5%9B%A0%E5%AD%90%E5%88%86%E6%9E%90%E5%9B%9E%E6%B8%AC%E7%B3%BB%E7%B5%B1/stock_factor_lab/main.ipynb#X34sZmlsZQ%3D%3D?line=0'>1</a>\u001b[0m tmp_str \u001b[39m=\u001b[39m \u001b[39m\"\u001b[39;49m\u001b[39mQuantile_\u001b[39;49m\u001b[39m\"\u001b[39;49m\u001b[39m+\u001b[39;49m(i \u001b[39m+\u001b[39;49m \u001b[39m1\u001b[39;49m)\u001b[39m+\u001b[39m\u001b[39m\"\u001b[39m\u001b[39m_MASK_factor2\u001b[39m\u001b[39m\"\u001b[39m\n",
      "\u001b[1;31mTypeError\u001b[0m: can only concatenate str (not \"int\") to str"
     ]
    }
   ],
   "source": [
    "tmp_str = \"Quantile_\"+(i + 1)+\"_MASK_factor2\"\n"
   ]
  },
  {
   "cell_type": "code",
   "execution_count": 15,
   "metadata": {},
   "outputs": [
    {
     "data": {
      "text/plain": [
       "('Quantile_', 4, '_MASK_factor2')"
      ]
     },
     "execution_count": 15,
     "metadata": {},
     "output_type": "execute_result"
    }
   ],
   "source": [
    "tmp_str"
   ]
  },
  {
   "cell_type": "code",
   "execution_count": null,
   "metadata": {},
   "outputs": [],
   "source": [
    "# # # 設定postion組合，結合因子分析&進場條件\n",
    "# postion_1 = roe_1 & cond\n",
    "# postion_2 = roe_2 & cond\n",
    "# postion_3 = roe_3 & cond\n",
    "# postion_4 = roe_4 & cond"
   ]
  },
  {
   "cell_type": "code",
   "execution_count": null,
   "metadata": {},
   "outputs": [],
   "source": [
    "# 將四個區間帶入回測，換股周期為:月\n",
    "# result_1_M = sim(postion_1, resample=\"M\")\n",
    "# result_2_M = sim(postion_2, resample=\"M\")\n",
    "# result_3_M = sim(postion_3, resample=\"M\")\n",
    "# result_4_M = sim(postion_4, resample=\"M\")"
   ]
  },
  {
   "cell_type": "code",
   "execution_count": null,
   "metadata": {},
   "outputs": [],
   "source": [
    "# 將四個區間帶入回測，換股周期為:季\n",
    "result_1_Q = sim(postion_1, resample=\"Q\")\n",
    "# result_2_Q = sim(postion_2, resample=\"Q\")\n",
    "# result_3_Q = sim(postion_3, resample=\"Q\")\n",
    "result_4_Q = sim(postion_4, resample=\"Q\")"
   ]
  },
  {
   "cell_type": "code",
   "execution_count": null,
   "metadata": {},
   "outputs": [],
   "source": [
    "# # 創建一個圖表和子圖\n",
    "# fig, ax = plt.subplots()\n",
    "\n",
    "# # 在第一個子圖中繪製第一個 DataFrame 的 \"cum_returns\" 列\n",
    "# result_1_M.stock_data[\"cum_returns\"].plot(ax=ax, label=\"result_roe_1_M\")\n",
    "# # 在第一個子圖中繪製第二個 DataFrame 的 \"cum_returns\" 列\n",
    "# result_2_M.stock_data[\"cum_returns\"].plot(ax=ax, label=\"result_roe_2_M\")\n",
    "# # 在第一個子圖中繪製第三個 DataFrame 的 \"cum_returns\" 列\n",
    "# result_3_M.stock_data[\"cum_returns\"].plot(ax=ax, label=\"result_roe_3_M\")\n",
    "# # 在第一個子圖中繪製第四個 DataFrame 的 \"cum_returns\" 列\n",
    "# result_4_M.stock_data[\"cum_returns\"].plot(ax=ax, label=\"result_roe__M\")\n",
    "# # 添加圖例\n",
    "# ax.legend()\n",
    "\n",
    "# # 顯示圖表\n",
    "# plt.show()"
   ]
  },
  {
   "cell_type": "code",
   "execution_count": null,
   "metadata": {},
   "outputs": [],
   "source": [
    "# 創建一個圖表和子圖\n",
    "fig, ax = plt.subplots()\n",
    "\n",
    "# 在第一個子圖中繪製第一個 DataFrame 的 \"cum_returns\" 列\n",
    "result_1_Q.stock_data[\"cum_returns\"].plot(ax=ax, label=\"result_roe_1_Q\")\n",
    "# # 在第一個子圖中繪製第二個 DataFrame 的 \"cum_returns\" 列\n",
    "# result_2_Q.stock_data[\"cum_returns\"].plot(ax=ax, label=\"result_roe_2_Q\")\n",
    "# # 在第一個子圖中繪製第三個 DataFrame 的 \"cum_returns\" 列\n",
    "# result_3_Q.stock_data[\"cum_returns\"].plot(ax=ax, label=\"result_roe_3_Q\")\n",
    "# 在第一個子圖中繪製第四個 DataFrame 的 \"cum_returns\" 列\n",
    "result_4_Q.stock_data[\"cum_returns\"].plot(ax=ax, label=\"result_roe_4_Q\")\n",
    "# 添加圖例\n",
    "ax.legend()\n",
    "\n",
    "# 顯示圖表\n",
    "plt.show()"
   ]
  },
  {
   "cell_type": "code",
   "execution_count": null,
   "metadata": {},
   "outputs": [],
   "source": [
    "result_3.display()"
   ]
  },
  {
   "cell_type": "code",
   "execution_count": null,
   "metadata": {},
   "outputs": [],
   "source": [
    "result_2.display()"
   ]
  },
  {
   "cell_type": "code",
   "execution_count": null,
   "metadata": {},
   "outputs": [],
   "source": [
    "result_3.display()"
   ]
  },
  {
   "cell_type": "code",
   "execution_count": null,
   "metadata": {},
   "outputs": [],
   "source": [
    "result_4.display()"
   ]
  },
  {
   "cell_type": "code",
   "execution_count": null,
   "metadata": {},
   "outputs": [],
   "source": [
    "# 實做看看achieving alpha"
   ]
  }
 ],
 "metadata": {
  "kernelspec": {
   "display_name": "Python 3",
   "language": "python",
   "name": "python3"
  },
  "language_info": {
   "codemirror_mode": {
    "name": "ipython",
    "version": 3
   },
   "file_extension": ".py",
   "mimetype": "text/x-python",
   "name": "python",
   "nbconvert_exporter": "python",
   "pygments_lexer": "ipython3",
   "version": "3.8.17"
  },
  "orig_nbformat": 4
 },
 "nbformat": 4,
 "nbformat_minor": 2
}
