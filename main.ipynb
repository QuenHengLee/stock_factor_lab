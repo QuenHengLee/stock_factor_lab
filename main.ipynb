{
 "cells": [
  {
   "cell_type": "markdown",
   "metadata": {},
   "source": [
    "import 程式庫\n"
   ]
  },
  {
   "cell_type": "code",
   "execution_count": 1,
   "metadata": {},
   "outputs": [],
   "source": [
    "from database import Database\n",
    "from get_data import Data\n",
    "from seperate_company import SeperateCompany\n",
    "from plot import Plot\n",
    "from backtest import Backtest\n",
    "from datetime import datetime\n",
    "\n",
    "import pandas as pd\n",
    "import numpy as np\n",
    "import matplotlib.pyplot as plt\n",
    "import seaborn as sns\n",
    "import matplotlib.pyplot as plt\n",
    "import plotly.express as px"
   ]
  },
  {
   "cell_type": "code",
   "execution_count": 2,
   "metadata": {},
   "outputs": [],
   "source": [
    "# 建立取得資料物件\n",
    "data = Data()\n",
    "# 建立資料分割物件\n",
    "seperate_company = SeperateCompany()\n",
    "# 建立畫圖物件\n",
    "plotter = Plot()"
   ]
  },
  {
   "cell_type": "code",
   "execution_count": 3,
   "metadata": {},
   "outputs": [
    {
     "name": "stdout",
     "output_type": "stream",
     "text": [
      "DataFrame for factor_name EPS:\n",
      "\n",
      "DataFrame for factor_name ROE:\n",
      "\n"
     ]
    }
   ],
   "source": [
    "# 測試輸出財報資料    \n",
    "# factor_dict = data.get('report:EPS,ROE,PB,PS,PE')\n",
    "factor_dict = data.get('report:EPS,ROE')"
   ]
  },
  {
   "cell_type": "code",
   "execution_count": 4,
   "metadata": {},
   "outputs": [
    {
     "ename": "SyntaxError",
     "evalue": "positional argument follows keyword argument (4251424987.py, line 5)",
     "output_type": "error",
     "traceback": [
      "\u001b[1;36m  Cell \u001b[1;32mIn[4], line 5\u001b[1;36m\u001b[0m\n\u001b[1;33m    all_result_dict = seperate_company.backtest_all_quantile(factor_dict,quantile=4, start_date, end_date)\u001b[0m\n\u001b[1;37m                                                                                     ^\u001b[0m\n\u001b[1;31mSyntaxError\u001b[0m\u001b[1;31m:\u001b[0m positional argument follows keyword argument\n"
     ]
    }
   ],
   "source": [
    "# 根據隨入的因子，將公司分成quantile組\n",
    "# 回測所有quantile\n",
    "all_result_dict = seperate_company.backtest_all_quantile(factor_dict,quantile=4)"
   ]
  },
  {
   "cell_type": "code",
   "execution_count": null,
   "metadata": {},
   "outputs": [],
   "source": [
    "\n",
    "# 畫圖\n",
    "plotter.plot(all_result_dict,index=\"portfolio_returns\",N=0)\n",
    "# 畫圖\n",
    "plotter.plot(all_result_dict,index=\"portfolio_value\",N=1)\n",
    "# 列出DataFrame\n",
    "plotter.table(all_result_dict,index=\"portfolio_value\")"
   ]
  },
  {
   "cell_type": "code",
   "execution_count": null,
   "metadata": {},
   "outputs": [],
   "source": [
    "import pandas as pd\n",
    "import numpy as np\n",
    "\n",
    "# 創建一個時間範圍為一週的虛擬 DataFrame，以每小時為間隔\n",
    "start_date = '2023-09-01 00:00:00'\n",
    "end_date = '2023-09-07 23:59:59'\n",
    "time_interval = '1H'  # 1小時為間隔\n",
    "\n",
    "# 生成時間索引\n",
    "time_index = pd.date_range(start=start_date, end=end_date, freq=time_interval)\n",
    "\n",
    "# 創建 DataFrame\n",
    "data = np.random.randn(len(time_index), 3)  # 生成隨機資料\n",
    "columns = ['Value1', 'Value2', 'Value3']\n",
    "df = pd.DataFrame(data, index=time_index, columns=columns)\n",
    "\n",
    "# 印出 DataFrame\n",
    "print(df)\n"
   ]
  },
  {
   "cell_type": "code",
   "execution_count": null,
   "metadata": {},
   "outputs": [],
   "source": [
    "# 假設要選取從 '開始日期' 到 '結束日期' 的資料\n",
    "start_date = '2023-09-01'\n",
    "end_date = '2023-09-06'\n",
    "\n",
    "# 透過 .loc 選取指定日期區間的資料\n",
    "selected_data = df.loc[start_date:end_date]\n",
    "\n",
    "# 印出選取的資料\n",
    "print(selected_data)"
   ]
  }
 ],
 "metadata": {
  "kernelspec": {
   "display_name": "Python 3",
   "language": "python",
   "name": "python3"
  },
  "language_info": {
   "codemirror_mode": {
    "name": "ipython",
    "version": 3
   },
   "file_extension": ".py",
   "mimetype": "text/x-python",
   "name": "python",
   "nbconvert_exporter": "python",
   "pygments_lexer": "ipython3",
   "version": "3.8.17"
  },
  "orig_nbformat": 4
 },
 "nbformat": 4,
 "nbformat_minor": 2
}
