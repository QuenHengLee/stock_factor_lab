{
 "cells": [
  {
   "cell_type": "markdown",
   "metadata": {},
   "source": [
    "import 程式庫\n"
   ]
  },
  {
   "cell_type": "code",
   "execution_count": 1,
   "metadata": {},
   "outputs": [],
   "source": [
    "from database import Database\n",
    "from get_data import Data\n",
    "from seperate_company import SeperateCompany\n",
    "from plot import Plot\n",
    "from Backtest import Backtest\n",
    "from datetime import datetime\n",
    "from combinations import sim_conditions\n",
    "import pandas as pd\n",
    "import numpy as np\n",
    "import matplotlib.pyplot as plt\n",
    "import seaborn as sns\n",
    "import matplotlib.pyplot as plt\n",
    "import plotly.express as px"
   ]
  },
  {
   "cell_type": "code",
   "execution_count": 2,
   "metadata": {},
   "outputs": [],
   "source": [
    "# 建立取得資料物件\n",
    "data = Data()\n",
    "# 建立資料分割物件\n",
    "seperate_company = SeperateCompany()\n",
    "# 建立畫圖物件\n",
    "plotter = Plot()"
   ]
  },
  {
   "cell_type": "code",
   "execution_count": 6,
   "metadata": {},
   "outputs": [],
   "source": [
    "upper, middle, lower = data.indicator(\"BBANDS\")"
   ]
  },
  {
   "cell_type": "code",
   "execution_count": 8,
   "metadata": {},
   "outputs": [],
   "source": [
    "rsi = data.indicator(\"RSI\")"
   ]
  },
  {
   "cell_type": "code",
   "execution_count": 9,
   "metadata": {},
   "outputs": [],
   "source": [
    "macd, macdsignal, macdhist = data.indicator(\"MACD\")"
   ]
  },
  {
   "cell_type": "code",
   "execution_count": null,
   "metadata": {},
   "outputs": [],
   "source": [
    "# 取得收盤價資料(回測用)\n",
    "close = data.get(\"price:close\")\n",
    "# 取得RSI指標資料(進出場策略用)\n",
    "rsi = data.indicator(\"rsi\")\n",
    "# 取得ROE財報資料(因子分析/進出場策略用)\n",
    "roe = data.get(\"report:roe\")\n",
    "pb = data.get(\"report:pb\")"
   ]
  },
  {
   "cell_type": "code",
   "execution_count": null,
   "metadata": {},
   "outputs": [],
   "source": [
    "# 利用 ROE將公司切分成四等分(因子分析)\n",
    "roe_1, roe_2, roe_3, roe_4 = roe.divide_slice(4)"
   ]
  },
  {
   "cell_type": "code",
   "execution_count": null,
   "metadata": {},
   "outputs": [],
   "source": [
    "# 設定進場的條件\n",
    "cond_1 = rsi.is_largest(5)\n",
    "cond_2 = close > close.average(20)\n",
    "cond_3 = pb\n",
    "# 進場條件做AND運算\n",
    "cond = cond_1 & cond_2"
   ]
  },
  {
   "cell_type": "code",
   "execution_count": null,
   "metadata": {},
   "outputs": [],
   "source": [
    "# 設定postion組合，結合因子分析&進場條件\n",
    "postion_1 = roe_1 & cond\n",
    "postion_2 = roe_2 & cond\n",
    "postion_3 = roe_3 & cond\n",
    "postion_4 = roe_4 & cond"
   ]
  },
  {
   "cell_type": "code",
   "execution_count": null,
   "metadata": {},
   "outputs": [],
   "source": [
    "# 宣告一個dict，存放各種position組合\n",
    "new_conditions = {'postion_1':postion_1, 'postion_2':postion_2, 'postion_3':postion_3, 'postion_4':postion_4}"
   ]
  },
  {
   "cell_type": "code",
   "execution_count": null,
   "metadata": {},
   "outputs": [],
   "source": [
    "sim_output = sim_conditions(new_conditions)"
   ]
  },
  {
   "cell_type": "code",
   "execution_count": null,
   "metadata": {},
   "outputs": [],
   "source": [
    "result_1 = Backtest(postion_1)\n",
    "result_2 = Backtest(postion_2)\n",
    "result_3 = Backtest(postion_3)\n",
    "result_4 = Backtest(postion_4)"
   ]
  },
  {
   "cell_type": "code",
   "execution_count": null,
   "metadata": {},
   "outputs": [],
   "source": [
    "no_strategy_1 = Backtest(roe_1)\n",
    "no_strategy_4 = Backtest(roe_4)"
   ]
  },
  {
   "cell_type": "code",
   "execution_count": null,
   "metadata": {},
   "outputs": [],
   "source": [
    "# 實做看看achieving alpha"
   ]
  }
 ],
 "metadata": {
  "kernelspec": {
   "display_name": "Python 3",
   "language": "python",
   "name": "python3"
  },
  "language_info": {
   "codemirror_mode": {
    "name": "ipython",
    "version": 3
   },
   "file_extension": ".py",
   "mimetype": "text/x-python",
   "name": "python",
   "nbconvert_exporter": "python",
   "pygments_lexer": "ipython3",
   "version": "3.8.17"
  },
  "orig_nbformat": 4
 },
 "nbformat": 4,
 "nbformat_minor": 2
}
