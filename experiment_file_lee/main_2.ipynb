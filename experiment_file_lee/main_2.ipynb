version https://git-lfs.github.com/spec/v1
oid sha256:acf06ed6bc4a6333ce3aa64ddfb7d6504d1d8dbb09482dda51f85af8c6980c69
size 9250
