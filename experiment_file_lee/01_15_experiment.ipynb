version https://git-lfs.github.com/spec/v1
oid sha256:0f36faa03904dc73ad6d058688ba9838c22e5f77767e8126e6074a261e264e53
size 3787
